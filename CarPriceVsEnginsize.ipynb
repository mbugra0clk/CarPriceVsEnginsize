{
 "cells": [
  {
   "cell_type": "code",
   "execution_count": 6,
   "id": "1e96dec3-42d5-439f-840d-b35e539dd830",
   "metadata": {},
   "outputs": [],
   "source": [
    "import numpy as np\n",
    "import pandas as pd \n",
    "from sklearn.model_selection import train_test_split, GridSearchCV,cross_val_score\n",
    "from sklearn.metrics import mean_squared_error, r2_score\n",
    "import matplotlib.pyplot as plt\n",
    "from sklearn.preprocessing import scale \n",
    "from sklearn import model_selection\n",
    "from sklearn.tree import DecisionTreeRegressor, DecisionTreeClassifier\n",
    "from sklearn.neighbors import KNeighborsRegressor\n",
    "from sklearn.ensemble import BaggingRegressor\n",
    "\n",
    "from warnings import filterwarnings\n",
    "filterwarnings('ignore')"
   ]
  },
  {
   "cell_type": "code",
   "execution_count": 7,
   "id": "e0c5abf8-e3c1-4d49-949f-27abc6bdac0a",
   "metadata": {},
   "outputs": [
    {
     "data": {
      "text/html": [
       "<div>\n",
       "<style scoped>\n",
       "    .dataframe tbody tr th:only-of-type {\n",
       "        vertical-align: middle;\n",
       "    }\n",
       "\n",
       "    .dataframe tbody tr th {\n",
       "        vertical-align: top;\n",
       "    }\n",
       "\n",
       "    .dataframe thead th {\n",
       "        text-align: right;\n",
       "    }\n",
       "</style>\n",
       "<table border=\"1\" class=\"dataframe\">\n",
       "  <thead>\n",
       "    <tr style=\"text-align: right;\">\n",
       "      <th></th>\n",
       "      <th>car_ID</th>\n",
       "      <th>symboling</th>\n",
       "      <th>fueltype</th>\n",
       "      <th>aspiration</th>\n",
       "      <th>doornumber</th>\n",
       "      <th>carbody</th>\n",
       "      <th>drivewheel</th>\n",
       "      <th>enginelocation</th>\n",
       "      <th>wheelbase</th>\n",
       "      <th>carlength</th>\n",
       "      <th>...</th>\n",
       "      <th>curbweight_squared</th>\n",
       "      <th>enginesize_squared</th>\n",
       "      <th>boreratio_squared</th>\n",
       "      <th>stroke_squared</th>\n",
       "      <th>compressionratio_squared</th>\n",
       "      <th>horsepower_squared</th>\n",
       "      <th>peakrpm_squared</th>\n",
       "      <th>citympg_squared</th>\n",
       "      <th>highwaympg_squared</th>\n",
       "      <th>log_enginesize</th>\n",
       "    </tr>\n",
       "  </thead>\n",
       "  <tbody>\n",
       "    <tr>\n",
       "      <th>0</th>\n",
       "      <td>1</td>\n",
       "      <td>3</td>\n",
       "      <td>1</td>\n",
       "      <td>0</td>\n",
       "      <td>1</td>\n",
       "      <td>0</td>\n",
       "      <td>2</td>\n",
       "      <td>0</td>\n",
       "      <td>-1.690772</td>\n",
       "      <td>-0.426521</td>\n",
       "      <td>...</td>\n",
       "      <td>6492304</td>\n",
       "      <td>16900</td>\n",
       "      <td>12.0409</td>\n",
       "      <td>7.1824</td>\n",
       "      <td>81.0</td>\n",
       "      <td>12321</td>\n",
       "      <td>25000000</td>\n",
       "      <td>441</td>\n",
       "      <td>729</td>\n",
       "      <td>4.875197</td>\n",
       "    </tr>\n",
       "    <tr>\n",
       "      <th>1</th>\n",
       "      <td>2</td>\n",
       "      <td>3</td>\n",
       "      <td>1</td>\n",
       "      <td>0</td>\n",
       "      <td>1</td>\n",
       "      <td>0</td>\n",
       "      <td>2</td>\n",
       "      <td>0</td>\n",
       "      <td>-1.690772</td>\n",
       "      <td>-0.426521</td>\n",
       "      <td>...</td>\n",
       "      <td>6492304</td>\n",
       "      <td>16900</td>\n",
       "      <td>12.0409</td>\n",
       "      <td>7.1824</td>\n",
       "      <td>81.0</td>\n",
       "      <td>12321</td>\n",
       "      <td>25000000</td>\n",
       "      <td>441</td>\n",
       "      <td>729</td>\n",
       "      <td>4.875197</td>\n",
       "    </tr>\n",
       "    <tr>\n",
       "      <th>2</th>\n",
       "      <td>3</td>\n",
       "      <td>1</td>\n",
       "      <td>1</td>\n",
       "      <td>0</td>\n",
       "      <td>1</td>\n",
       "      <td>2</td>\n",
       "      <td>2</td>\n",
       "      <td>0</td>\n",
       "      <td>-0.708596</td>\n",
       "      <td>-0.231513</td>\n",
       "      <td>...</td>\n",
       "      <td>7969329</td>\n",
       "      <td>23104</td>\n",
       "      <td>7.1824</td>\n",
       "      <td>12.0409</td>\n",
       "      <td>81.0</td>\n",
       "      <td>23716</td>\n",
       "      <td>25000000</td>\n",
       "      <td>361</td>\n",
       "      <td>676</td>\n",
       "      <td>5.030438</td>\n",
       "    </tr>\n",
       "    <tr>\n",
       "      <th>3</th>\n",
       "      <td>4</td>\n",
       "      <td>2</td>\n",
       "      <td>1</td>\n",
       "      <td>0</td>\n",
       "      <td>0</td>\n",
       "      <td>3</td>\n",
       "      <td>1</td>\n",
       "      <td>0</td>\n",
       "      <td>0.173698</td>\n",
       "      <td>0.207256</td>\n",
       "      <td>...</td>\n",
       "      <td>5461569</td>\n",
       "      <td>11881</td>\n",
       "      <td>10.1761</td>\n",
       "      <td>11.5600</td>\n",
       "      <td>100.0</td>\n",
       "      <td>10404</td>\n",
       "      <td>30250000</td>\n",
       "      <td>576</td>\n",
       "      <td>900</td>\n",
       "      <td>4.700480</td>\n",
       "    </tr>\n",
       "    <tr>\n",
       "      <th>4</th>\n",
       "      <td>5</td>\n",
       "      <td>2</td>\n",
       "      <td>1</td>\n",
       "      <td>0</td>\n",
       "      <td>0</td>\n",
       "      <td>3</td>\n",
       "      <td>0</td>\n",
       "      <td>0</td>\n",
       "      <td>0.107110</td>\n",
       "      <td>0.207256</td>\n",
       "      <td>...</td>\n",
       "      <td>7974976</td>\n",
       "      <td>18496</td>\n",
       "      <td>10.1761</td>\n",
       "      <td>11.5600</td>\n",
       "      <td>64.0</td>\n",
       "      <td>13225</td>\n",
       "      <td>30250000</td>\n",
       "      <td>324</td>\n",
       "      <td>484</td>\n",
       "      <td>4.919981</td>\n",
       "    </tr>\n",
       "  </tbody>\n",
       "</table>\n",
       "<p>5 rows × 42 columns</p>\n",
       "</div>"
      ],
      "text/plain": [
       "   car_ID  symboling  fueltype  aspiration  doornumber  carbody  drivewheel  \\\n",
       "0       1          3         1           0           1        0           2   \n",
       "1       2          3         1           0           1        0           2   \n",
       "2       3          1         1           0           1        2           2   \n",
       "3       4          2         1           0           0        3           1   \n",
       "4       5          2         1           0           0        3           0   \n",
       "\n",
       "   enginelocation  wheelbase  carlength  ...  curbweight_squared  \\\n",
       "0               0  -1.690772  -0.426521  ...             6492304   \n",
       "1               0  -1.690772  -0.426521  ...             6492304   \n",
       "2               0  -0.708596  -0.231513  ...             7969329   \n",
       "3               0   0.173698   0.207256  ...             5461569   \n",
       "4               0   0.107110   0.207256  ...             7974976   \n",
       "\n",
       "   enginesize_squared  boreratio_squared  stroke_squared  \\\n",
       "0               16900            12.0409          7.1824   \n",
       "1               16900            12.0409          7.1824   \n",
       "2               23104             7.1824         12.0409   \n",
       "3               11881            10.1761         11.5600   \n",
       "4               18496            10.1761         11.5600   \n",
       "\n",
       "   compressionratio_squared  horsepower_squared  peakrpm_squared  \\\n",
       "0                      81.0               12321         25000000   \n",
       "1                      81.0               12321         25000000   \n",
       "2                      81.0               23716         25000000   \n",
       "3                     100.0               10404         30250000   \n",
       "4                      64.0               13225         30250000   \n",
       "\n",
       "   citympg_squared  highwaympg_squared  log_enginesize  \n",
       "0              441                 729        4.875197  \n",
       "1              441                 729        4.875197  \n",
       "2              361                 676        5.030438  \n",
       "3              576                 900        4.700480  \n",
       "4              324                 484        4.919981  \n",
       "\n",
       "[5 rows x 42 columns]"
      ]
     },
     "execution_count": 7,
     "metadata": {},
     "output_type": "execute_result"
    }
   ],
   "source": [
    "import pandas as pd\n",
    "df = pd.read_csv(\"Car_price_cleaned.csv\")\n",
    "df = df.select_dtypes(include = ['float64', 'int64']) \n",
    "df = df.dropna()\n",
    "df = df.copy()\n",
    "df.head()"
   ]
  },
  {
   "cell_type": "code",
   "execution_count": 10,
   "id": "39d71bae-fd9c-4c60-b508-0c22568487ae",
   "metadata": {},
   "outputs": [
    {
     "data": {
      "text/plain": [
       "False"
      ]
     },
     "execution_count": 10,
     "metadata": {},
     "output_type": "execute_result"
    }
   ],
   "source": [
    "df.isnull().values.any()"
   ]
  },
  {
   "cell_type": "code",
   "execution_count": 12,
   "id": "d3a812d3-048d-49e3-a840-7f83183282ce",
   "metadata": {},
   "outputs": [
    {
     "data": {
      "text/html": [
       "<div>\n",
       "<style scoped>\n",
       "    .dataframe tbody tr th:only-of-type {\n",
       "        vertical-align: middle;\n",
       "    }\n",
       "\n",
       "    .dataframe tbody tr th {\n",
       "        vertical-align: top;\n",
       "    }\n",
       "\n",
       "    .dataframe thead th {\n",
       "        text-align: right;\n",
       "    }\n",
       "</style>\n",
       "<table border=\"1\" class=\"dataframe\">\n",
       "  <thead>\n",
       "    <tr style=\"text-align: right;\">\n",
       "      <th></th>\n",
       "      <th>car_ID</th>\n",
       "      <th>symboling</th>\n",
       "      <th>fueltype</th>\n",
       "      <th>aspiration</th>\n",
       "      <th>doornumber</th>\n",
       "      <th>carbody</th>\n",
       "      <th>drivewheel</th>\n",
       "      <th>enginelocation</th>\n",
       "      <th>wheelbase</th>\n",
       "      <th>carlength</th>\n",
       "      <th>...</th>\n",
       "      <th>curbweight_squared</th>\n",
       "      <th>enginesize_squared</th>\n",
       "      <th>boreratio_squared</th>\n",
       "      <th>stroke_squared</th>\n",
       "      <th>compressionratio_squared</th>\n",
       "      <th>horsepower_squared</th>\n",
       "      <th>peakrpm_squared</th>\n",
       "      <th>citympg_squared</th>\n",
       "      <th>highwaympg_squared</th>\n",
       "      <th>log_enginesize</th>\n",
       "    </tr>\n",
       "  </thead>\n",
       "  <tbody>\n",
       "    <tr>\n",
       "      <th>car_ID</th>\n",
       "      <td>1.000000</td>\n",
       "      <td>-0.151621</td>\n",
       "      <td>-0.125568</td>\n",
       "      <td>0.067729</td>\n",
       "      <td>-0.190352</td>\n",
       "      <td>0.098303</td>\n",
       "      <td>0.051406</td>\n",
       "      <td>0.051483</td>\n",
       "      <td>0.129729</td>\n",
       "      <td>0.170636</td>\n",
       "      <td>...</td>\n",
       "      <td>0.036202</td>\n",
       "      <td>-0.078822</td>\n",
       "      <td>0.260587</td>\n",
       "      <td>-0.162609</td>\n",
       "      <td>0.148533</td>\n",
       "      <td>-0.019594</td>\n",
       "      <td>-0.204893</td>\n",
       "      <td>-0.023611</td>\n",
       "      <td>-0.017436</td>\n",
       "      <td>0.021369</td>\n",
       "    </tr>\n",
       "    <tr>\n",
       "      <th>symboling</th>\n",
       "      <td>-0.151621</td>\n",
       "      <td>1.000000</td>\n",
       "      <td>0.194311</td>\n",
       "      <td>-0.059866</td>\n",
       "      <td>0.664073</td>\n",
       "      <td>-0.596135</td>\n",
       "      <td>-0.041671</td>\n",
       "      <td>0.212471</td>\n",
       "      <td>-0.531954</td>\n",
       "      <td>-0.357612</td>\n",
       "      <td>...</td>\n",
       "      <td>-0.236671</td>\n",
       "      <td>-0.089206</td>\n",
       "      <td>-0.128438</td>\n",
       "      <td>-0.003567</td>\n",
       "      <td>-0.179647</td>\n",
       "      <td>0.077912</td>\n",
       "      <td>0.266609</td>\n",
       "      <td>-0.012111</td>\n",
       "      <td>0.041842</td>\n",
       "      <td>-0.128053</td>\n",
       "    </tr>\n",
       "    <tr>\n",
       "      <th>fueltype</th>\n",
       "      <td>-0.125568</td>\n",
       "      <td>0.194311</td>\n",
       "      <td>1.000000</td>\n",
       "      <td>-0.401397</td>\n",
       "      <td>0.191491</td>\n",
       "      <td>-0.147853</td>\n",
       "      <td>-0.132257</td>\n",
       "      <td>0.040070</td>\n",
       "      <td>-0.308346</td>\n",
       "      <td>-0.212679</td>\n",
       "      <td>...</td>\n",
       "      <td>-0.221943</td>\n",
       "      <td>-0.036090</td>\n",
       "      <td>-0.055511</td>\n",
       "      <td>-0.243359</td>\n",
       "      <td>-0.991709</td>\n",
       "      <td>0.142254</td>\n",
       "      <td>0.453793</td>\n",
       "      <td>-0.254841</td>\n",
       "      <td>-0.207156</td>\n",
       "      <td>-0.096957</td>\n",
       "    </tr>\n",
       "    <tr>\n",
       "      <th>aspiration</th>\n",
       "      <td>0.067729</td>\n",
       "      <td>-0.059866</td>\n",
       "      <td>-0.401397</td>\n",
       "      <td>1.000000</td>\n",
       "      <td>-0.031792</td>\n",
       "      <td>0.063028</td>\n",
       "      <td>0.066465</td>\n",
       "      <td>-0.057191</td>\n",
       "      <td>0.257611</td>\n",
       "      <td>0.234539</td>\n",
       "      <td>...</td>\n",
       "      <td>0.310994</td>\n",
       "      <td>0.050565</td>\n",
       "      <td>0.215725</td>\n",
       "      <td>0.231845</td>\n",
       "      <td>0.334178</td>\n",
       "      <td>0.177224</td>\n",
       "      <td>-0.176900</td>\n",
       "      <td>-0.200254</td>\n",
       "      <td>-0.249370</td>\n",
       "      <td>0.158960</td>\n",
       "    </tr>\n",
       "    <tr>\n",
       "      <th>doornumber</th>\n",
       "      <td>-0.190352</td>\n",
       "      <td>0.664073</td>\n",
       "      <td>0.191491</td>\n",
       "      <td>-0.031792</td>\n",
       "      <td>1.000000</td>\n",
       "      <td>-0.680358</td>\n",
       "      <td>0.098954</td>\n",
       "      <td>0.137757</td>\n",
       "      <td>-0.447357</td>\n",
       "      <td>-0.398568</td>\n",
       "      <td>...</td>\n",
       "      <td>-0.187431</td>\n",
       "      <td>0.009120</td>\n",
       "      <td>-0.112732</td>\n",
       "      <td>0.010969</td>\n",
       "      <td>-0.181913</td>\n",
       "      <td>0.153551</td>\n",
       "      <td>0.247700</td>\n",
       "      <td>0.041177</td>\n",
       "      <td>0.047352</td>\n",
       "      <td>-0.058756</td>\n",
       "    </tr>\n",
       "    <tr>\n",
       "      <th>carbody</th>\n",
       "      <td>0.098303</td>\n",
       "      <td>-0.596135</td>\n",
       "      <td>-0.147853</td>\n",
       "      <td>0.063028</td>\n",
       "      <td>-0.680358</td>\n",
       "      <td>1.000000</td>\n",
       "      <td>-0.155745</td>\n",
       "      <td>-0.277009</td>\n",
       "      <td>0.401362</td>\n",
       "      <td>0.334433</td>\n",
       "      <td>...</td>\n",
       "      <td>0.126234</td>\n",
       "      <td>-0.080259</td>\n",
       "      <td>0.006043</td>\n",
       "      <td>-0.013577</td>\n",
       "      <td>0.138596</td>\n",
       "      <td>-0.161815</td>\n",
       "      <td>-0.111122</td>\n",
       "      <td>0.013135</td>\n",
       "      <td>-0.014230</td>\n",
       "      <td>-0.052851</td>\n",
       "    </tr>\n",
       "    <tr>\n",
       "      <th>drivewheel</th>\n",
       "      <td>0.051406</td>\n",
       "      <td>-0.041671</td>\n",
       "      <td>-0.132257</td>\n",
       "      <td>0.066465</td>\n",
       "      <td>0.098954</td>\n",
       "      <td>-0.155745</td>\n",
       "      <td>1.000000</td>\n",
       "      <td>0.147865</td>\n",
       "      <td>0.459745</td>\n",
       "      <td>0.485649</td>\n",
       "      <td>...</td>\n",
       "      <td>0.572193</td>\n",
       "      <td>0.475479</td>\n",
       "      <td>0.486464</td>\n",
       "      <td>0.071915</td>\n",
       "      <td>0.118280</td>\n",
       "      <td>0.467854</td>\n",
       "      <td>-0.024714</td>\n",
       "      <td>-0.411884</td>\n",
       "      <td>-0.424078</td>\n",
       "      <td>0.531860</td>\n",
       "    </tr>\n",
       "    <tr>\n",
       "      <th>enginelocation</th>\n",
       "      <td>0.051483</td>\n",
       "      <td>0.212471</td>\n",
       "      <td>0.040070</td>\n",
       "      <td>-0.057191</td>\n",
       "      <td>0.137757</td>\n",
       "      <td>-0.277009</td>\n",
       "      <td>0.147865</td>\n",
       "      <td>1.000000</td>\n",
       "      <td>-0.187790</td>\n",
       "      <td>-0.050989</td>\n",
       "      <td>...</td>\n",
       "      <td>0.037392</td>\n",
       "      <td>0.169477</td>\n",
       "      <td>0.191152</td>\n",
       "      <td>-0.140776</td>\n",
       "      <td>-0.028422</td>\n",
       "      <td>0.347196</td>\n",
       "      <td>0.206637</td>\n",
       "      <td>-0.130971</td>\n",
       "      <td>-0.098950</td>\n",
       "      <td>0.201986</td>\n",
       "    </tr>\n",
       "    <tr>\n",
       "      <th>wheelbase</th>\n",
       "      <td>0.129729</td>\n",
       "      <td>-0.531954</td>\n",
       "      <td>-0.308346</td>\n",
       "      <td>0.257611</td>\n",
       "      <td>-0.447357</td>\n",
       "      <td>0.401362</td>\n",
       "      <td>0.459745</td>\n",
       "      <td>-0.187790</td>\n",
       "      <td>1.000000</td>\n",
       "      <td>0.874587</td>\n",
       "      <td>...</td>\n",
       "      <td>0.779766</td>\n",
       "      <td>0.521781</td>\n",
       "      <td>0.488411</td>\n",
       "      <td>0.178913</td>\n",
       "      <td>0.261761</td>\n",
       "      <td>0.272997</td>\n",
       "      <td>-0.351729</td>\n",
       "      <td>-0.453105</td>\n",
       "      <td>-0.512591</td>\n",
       "      <td>0.593749</td>\n",
       "    </tr>\n",
       "    <tr>\n",
       "      <th>carlength</th>\n",
       "      <td>0.170636</td>\n",
       "      <td>-0.357612</td>\n",
       "      <td>-0.212679</td>\n",
       "      <td>0.234539</td>\n",
       "      <td>-0.398568</td>\n",
       "      <td>0.334433</td>\n",
       "      <td>0.485649</td>\n",
       "      <td>-0.050989</td>\n",
       "      <td>0.874587</td>\n",
       "      <td>1.000000</td>\n",
       "      <td>...</td>\n",
       "      <td>0.856286</td>\n",
       "      <td>0.607030</td>\n",
       "      <td>0.602958</td>\n",
       "      <td>0.150709</td>\n",
       "      <td>0.172177</td>\n",
       "      <td>0.457182</td>\n",
       "      <td>-0.285182</td>\n",
       "      <td>-0.650193</td>\n",
       "      <td>-0.676871</td>\n",
       "      <td>0.731592</td>\n",
       "    </tr>\n",
       "    <tr>\n",
       "      <th>carwidth</th>\n",
       "      <td>0.052387</td>\n",
       "      <td>-0.232919</td>\n",
       "      <td>-0.233880</td>\n",
       "      <td>0.300567</td>\n",
       "      <td>-0.207168</td>\n",
       "      <td>0.131710</td>\n",
       "      <td>0.470751</td>\n",
       "      <td>-0.051698</td>\n",
       "      <td>0.795144</td>\n",
       "      <td>0.841118</td>\n",
       "      <td>...</td>\n",
       "      <td>0.863975</td>\n",
       "      <td>0.678579</td>\n",
       "      <td>0.562044</td>\n",
       "      <td>0.199684</td>\n",
       "      <td>0.195119</td>\n",
       "      <td>0.585489</td>\n",
       "      <td>-0.216309</td>\n",
       "      <td>-0.597942</td>\n",
       "      <td>-0.630754</td>\n",
       "      <td>0.755993</td>\n",
       "    </tr>\n",
       "    <tr>\n",
       "      <th>carheight</th>\n",
       "      <td>0.255960</td>\n",
       "      <td>-0.541038</td>\n",
       "      <td>-0.284631</td>\n",
       "      <td>0.087311</td>\n",
       "      <td>-0.552208</td>\n",
       "      <td>0.568534</td>\n",
       "      <td>-0.019719</td>\n",
       "      <td>-0.106234</td>\n",
       "      <td>0.589435</td>\n",
       "      <td>0.491029</td>\n",
       "      <td>...</td>\n",
       "      <td>0.283671</td>\n",
       "      <td>0.019461</td>\n",
       "      <td>0.171213</td>\n",
       "      <td>-0.056877</td>\n",
       "      <td>0.263083</td>\n",
       "      <td>-0.145972</td>\n",
       "      <td>-0.315359</td>\n",
       "      <td>-0.070902</td>\n",
       "      <td>-0.113237</td>\n",
       "      <td>0.119276</td>\n",
       "    </tr>\n",
       "    <tr>\n",
       "      <th>curbweight</th>\n",
       "      <td>0.071962</td>\n",
       "      <td>-0.227691</td>\n",
       "      <td>-0.217275</td>\n",
       "      <td>0.324902</td>\n",
       "      <td>-0.197379</td>\n",
       "      <td>0.128467</td>\n",
       "      <td>0.575111</td>\n",
       "      <td>0.050468</td>\n",
       "      <td>0.776386</td>\n",
       "      <td>0.877728</td>\n",
       "      <td>...</td>\n",
       "      <td>0.993413</td>\n",
       "      <td>0.780490</td>\n",
       "      <td>0.650056</td>\n",
       "      <td>0.193669</td>\n",
       "      <td>0.167884</td>\n",
       "      <td>0.675593</td>\n",
       "      <td>-0.261205</td>\n",
       "      <td>-0.708707</td>\n",
       "      <td>-0.748382</td>\n",
       "      <td>0.874296</td>\n",
       "    </tr>\n",
       "    <tr>\n",
       "      <th>enginetype</th>\n",
       "      <td>-0.075130</td>\n",
       "      <td>0.050372</td>\n",
       "      <td>0.082695</td>\n",
       "      <td>-0.102963</td>\n",
       "      <td>0.062431</td>\n",
       "      <td>-0.037024</td>\n",
       "      <td>-0.116823</td>\n",
       "      <td>0.114127</td>\n",
       "      <td>-0.135577</td>\n",
       "      <td>-0.113291</td>\n",
       "      <td>...</td>\n",
       "      <td>-0.058688</td>\n",
       "      <td>0.093418</td>\n",
       "      <td>0.030955</td>\n",
       "      <td>-0.155849</td>\n",
       "      <td>-0.071134</td>\n",
       "      <td>0.014065</td>\n",
       "      <td>0.000253</td>\n",
       "      <td>-0.067392</td>\n",
       "      <td>-0.062288</td>\n",
       "      <td>-0.018108</td>\n",
       "    </tr>\n",
       "    <tr>\n",
       "      <th>cylindernumber</th>\n",
       "      <td>-0.040912</td>\n",
       "      <td>0.197762</td>\n",
       "      <td>0.110617</td>\n",
       "      <td>-0.133119</td>\n",
       "      <td>0.154322</td>\n",
       "      <td>-0.048408</td>\n",
       "      <td>0.223238</td>\n",
       "      <td>0.135541</td>\n",
       "      <td>-0.184596</td>\n",
       "      <td>-0.109585</td>\n",
       "      <td>...</td>\n",
       "      <td>-0.055927</td>\n",
       "      <td>-0.048327</td>\n",
       "      <td>-0.038892</td>\n",
       "      <td>-0.051722</td>\n",
       "      <td>-0.079630</td>\n",
       "      <td>0.109981</td>\n",
       "      <td>0.228357</td>\n",
       "      <td>-0.090440</td>\n",
       "      <td>-0.072133</td>\n",
       "      <td>-0.141312</td>\n",
       "    </tr>\n",
       "    <tr>\n",
       "      <th>enginesize</th>\n",
       "      <td>-0.033930</td>\n",
       "      <td>-0.105790</td>\n",
       "      <td>-0.069594</td>\n",
       "      <td>0.108217</td>\n",
       "      <td>-0.020742</td>\n",
       "      <td>-0.073352</td>\n",
       "      <td>0.524307</td>\n",
       "      <td>0.196826</td>\n",
       "      <td>0.569329</td>\n",
       "      <td>0.683360</td>\n",
       "      <td>...</td>\n",
       "      <td>0.867932</td>\n",
       "      <td>0.974643</td>\n",
       "      <td>0.587609</td>\n",
       "      <td>0.222907</td>\n",
       "      <td>0.038858</td>\n",
       "      <td>0.783063</td>\n",
       "      <td>-0.243307</td>\n",
       "      <td>-0.589150</td>\n",
       "      <td>-0.614626</td>\n",
       "      <td>0.976540</td>\n",
       "    </tr>\n",
       "    <tr>\n",
       "      <th>fuelsystem</th>\n",
       "      <td>0.204898</td>\n",
       "      <td>0.091163</td>\n",
       "      <td>0.041529</td>\n",
       "      <td>0.288086</td>\n",
       "      <td>0.015519</td>\n",
       "      <td>-0.065079</td>\n",
       "      <td>0.424686</td>\n",
       "      <td>0.105971</td>\n",
       "      <td>0.384601</td>\n",
       "      <td>0.557810</td>\n",
       "      <td>...</td>\n",
       "      <td>0.566521</td>\n",
       "      <td>0.426543</td>\n",
       "      <td>0.474906</td>\n",
       "      <td>0.104736</td>\n",
       "      <td>-0.073667</td>\n",
       "      <td>0.548537</td>\n",
       "      <td>0.013492</td>\n",
       "      <td>-0.634874</td>\n",
       "      <td>-0.621702</td>\n",
       "      <td>0.576338</td>\n",
       "    </tr>\n",
       "    <tr>\n",
       "      <th>boreratio</th>\n",
       "      <td>0.260064</td>\n",
       "      <td>-0.130051</td>\n",
       "      <td>-0.054451</td>\n",
       "      <td>0.212614</td>\n",
       "      <td>-0.119258</td>\n",
       "      <td>0.010549</td>\n",
       "      <td>0.481827</td>\n",
       "      <td>0.185042</td>\n",
       "      <td>0.488750</td>\n",
       "      <td>0.606454</td>\n",
       "      <td>...</td>\n",
       "      <td>0.618482</td>\n",
       "      <td>0.500950</td>\n",
       "      <td>0.999012</td>\n",
       "      <td>-0.038234</td>\n",
       "      <td>0.011568</td>\n",
       "      <td>0.513279</td>\n",
       "      <td>-0.250132</td>\n",
       "      <td>-0.570967</td>\n",
       "      <td>-0.578537</td>\n",
       "      <td>0.637389</td>\n",
       "    </tr>\n",
       "    <tr>\n",
       "      <th>stroke</th>\n",
       "      <td>-0.160824</td>\n",
       "      <td>-0.008735</td>\n",
       "      <td>-0.241829</td>\n",
       "      <td>0.222982</td>\n",
       "      <td>0.011082</td>\n",
       "      <td>-0.015325</td>\n",
       "      <td>0.071591</td>\n",
       "      <td>-0.138455</td>\n",
       "      <td>0.160959</td>\n",
       "      <td>0.129533</td>\n",
       "      <td>...</td>\n",
       "      <td>0.178336</td>\n",
       "      <td>0.165201</td>\n",
       "      <td>-0.064449</td>\n",
       "      <td>0.995557</td>\n",
       "      <td>0.206954</td>\n",
       "      <td>0.037764</td>\n",
       "      <td>-0.060976</td>\n",
       "      <td>-0.039696</td>\n",
       "      <td>-0.037393</td>\n",
       "      <td>0.224089</td>\n",
       "    </tr>\n",
       "    <tr>\n",
       "      <th>compressionratio</th>\n",
       "      <td>0.150276</td>\n",
       "      <td>-0.178515</td>\n",
       "      <td>-0.984356</td>\n",
       "      <td>0.295541</td>\n",
       "      <td>-0.177888</td>\n",
       "      <td>0.136243</td>\n",
       "      <td>0.127479</td>\n",
       "      <td>-0.019762</td>\n",
       "      <td>0.249786</td>\n",
       "      <td>0.158414</td>\n",
       "      <td>...</td>\n",
       "      <td>0.159007</td>\n",
       "      <td>0.008800</td>\n",
       "      <td>0.007371</td>\n",
       "      <td>0.183014</td>\n",
       "      <td>0.996985</td>\n",
       "      <td>-0.163058</td>\n",
       "      <td>-0.412837</td>\n",
       "      <td>0.322940</td>\n",
       "      <td>0.279257</td>\n",
       "      <td>0.045261</td>\n",
       "    </tr>\n",
       "    <tr>\n",
       "      <th>horsepower</th>\n",
       "      <td>-0.015006</td>\n",
       "      <td>0.070873</td>\n",
       "      <td>0.163926</td>\n",
       "      <td>0.241685</td>\n",
       "      <td>0.126947</td>\n",
       "      <td>-0.153928</td>\n",
       "      <td>0.518686</td>\n",
       "      <td>0.317839</td>\n",
       "      <td>0.353294</td>\n",
       "      <td>0.552623</td>\n",
       "      <td>...</td>\n",
       "      <td>0.738891</td>\n",
       "      <td>0.759524</td>\n",
       "      <td>0.579998</td>\n",
       "      <td>0.091597</td>\n",
       "      <td>-0.191305</td>\n",
       "      <td>0.971579</td>\n",
       "      <td>0.130589</td>\n",
       "      <td>-0.732696</td>\n",
       "      <td>-0.724122</td>\n",
       "      <td>0.811452</td>\n",
       "    </tr>\n",
       "    <tr>\n",
       "      <th>peakrpm</th>\n",
       "      <td>-0.203789</td>\n",
       "      <td>0.273606</td>\n",
       "      <td>0.476883</td>\n",
       "      <td>-0.183383</td>\n",
       "      <td>0.247668</td>\n",
       "      <td>-0.109643</td>\n",
       "      <td>-0.039417</td>\n",
       "      <td>0.198461</td>\n",
       "      <td>-0.360469</td>\n",
       "      <td>-0.287242</td>\n",
       "      <td>...</td>\n",
       "      <td>-0.273309</td>\n",
       "      <td>-0.210318</td>\n",
       "      <td>-0.249540</td>\n",
       "      <td>-0.085660</td>\n",
       "      <td>-0.446425</td>\n",
       "      <td>0.130736</td>\n",
       "      <td>0.997814</td>\n",
       "      <td>-0.104042</td>\n",
       "      <td>-0.066208</td>\n",
       "      <td>-0.275756</td>\n",
       "    </tr>\n",
       "    <tr>\n",
       "      <th>citympg</th>\n",
       "      <td>0.015940</td>\n",
       "      <td>-0.035823</td>\n",
       "      <td>-0.255963</td>\n",
       "      <td>-0.202362</td>\n",
       "      <td>0.012417</td>\n",
       "      <td>0.031697</td>\n",
       "      <td>-0.449581</td>\n",
       "      <td>-0.153487</td>\n",
       "      <td>-0.470414</td>\n",
       "      <td>-0.670909</td>\n",
       "      <td>...</td>\n",
       "      <td>-0.719538</td>\n",
       "      <td>-0.585069</td>\n",
       "      <td>-0.581391</td>\n",
       "      <td>-0.061745</td>\n",
       "      <td>0.303991</td>\n",
       "      <td>-0.691907</td>\n",
       "      <td>-0.112513</td>\n",
       "      <td>0.985391</td>\n",
       "      <td>0.966753</td>\n",
       "      <td>-0.686703</td>\n",
       "    </tr>\n",
       "    <tr>\n",
       "      <th>highwaympg</th>\n",
       "      <td>0.011255</td>\n",
       "      <td>0.034606</td>\n",
       "      <td>-0.191392</td>\n",
       "      <td>-0.254416</td>\n",
       "      <td>0.036330</td>\n",
       "      <td>-0.007170</td>\n",
       "      <td>-0.452220</td>\n",
       "      <td>-0.102026</td>\n",
       "      <td>-0.544082</td>\n",
       "      <td>-0.704662</td>\n",
       "      <td>...</td>\n",
       "      <td>-0.768329</td>\n",
       "      <td>-0.616441</td>\n",
       "      <td>-0.583649</td>\n",
       "      <td>-0.064830</td>\n",
       "      <td>0.244560</td>\n",
       "      <td>-0.652345</td>\n",
       "      <td>-0.057256</td>\n",
       "      <td>0.955046</td>\n",
       "      <td>0.988469</td>\n",
       "      <td>-0.702629</td>\n",
       "    </tr>\n",
       "    <tr>\n",
       "      <th>price</th>\n",
       "      <td>-0.109093</td>\n",
       "      <td>-0.079978</td>\n",
       "      <td>-0.105679</td>\n",
       "      <td>0.177926</td>\n",
       "      <td>-0.031835</td>\n",
       "      <td>-0.083976</td>\n",
       "      <td>0.577992</td>\n",
       "      <td>0.324973</td>\n",
       "      <td>0.577816</td>\n",
       "      <td>0.682920</td>\n",
       "      <td>...</td>\n",
       "      <td>0.847939</td>\n",
       "      <td>0.849694</td>\n",
       "      <td>0.559839</td>\n",
       "      <td>0.092649</td>\n",
       "      <td>0.078031</td>\n",
       "      <td>0.777000</td>\n",
       "      <td>-0.077344</td>\n",
       "      <td>-0.610376</td>\n",
       "      <td>-0.631085</td>\n",
       "      <td>0.846059</td>\n",
       "    </tr>\n",
       "    <tr>\n",
       "      <th>brand</th>\n",
       "      <td>0.967084</td>\n",
       "      <td>-0.091524</td>\n",
       "      <td>-0.063029</td>\n",
       "      <td>0.021522</td>\n",
       "      <td>-0.164705</td>\n",
       "      <td>0.096025</td>\n",
       "      <td>-0.041645</td>\n",
       "      <td>0.052188</td>\n",
       "      <td>0.006009</td>\n",
       "      <td>0.053227</td>\n",
       "      <td>...</td>\n",
       "      <td>-0.092909</td>\n",
       "      <td>-0.196119</td>\n",
       "      <td>0.200364</td>\n",
       "      <td>-0.203171</td>\n",
       "      <td>0.092336</td>\n",
       "      <td>-0.080960</td>\n",
       "      <td>-0.142234</td>\n",
       "      <td>0.040023</td>\n",
       "      <td>0.058447</td>\n",
       "      <td>-0.105664</td>\n",
       "    </tr>\n",
       "    <tr>\n",
       "      <th>model</th>\n",
       "      <td>-0.142009</td>\n",
       "      <td>0.110629</td>\n",
       "      <td>0.036630</td>\n",
       "      <td>-0.132767</td>\n",
       "      <td>0.075963</td>\n",
       "      <td>-0.072089</td>\n",
       "      <td>-0.049642</td>\n",
       "      <td>-0.023342</td>\n",
       "      <td>-0.185034</td>\n",
       "      <td>-0.128629</td>\n",
       "      <td>...</td>\n",
       "      <td>-0.032740</td>\n",
       "      <td>0.187981</td>\n",
       "      <td>-0.121646</td>\n",
       "      <td>0.130361</td>\n",
       "      <td>-0.026055</td>\n",
       "      <td>0.077165</td>\n",
       "      <td>-0.143115</td>\n",
       "      <td>0.069418</td>\n",
       "      <td>0.084305</td>\n",
       "      <td>0.091502</td>\n",
       "    </tr>\n",
       "    <tr>\n",
       "      <th>power_to_weight_ratio</th>\n",
       "      <td>-0.075771</td>\n",
       "      <td>0.280358</td>\n",
       "      <td>0.394593</td>\n",
       "      <td>0.153542</td>\n",
       "      <td>0.325913</td>\n",
       "      <td>-0.320201</td>\n",
       "      <td>0.339333</td>\n",
       "      <td>0.442346</td>\n",
       "      <td>-0.049219</td>\n",
       "      <td>0.162823</td>\n",
       "      <td>...</td>\n",
       "      <td>0.330234</td>\n",
       "      <td>0.470483</td>\n",
       "      <td>0.371624</td>\n",
       "      <td>0.006142</td>\n",
       "      <td>-0.406111</td>\n",
       "      <td>0.859460</td>\n",
       "      <td>0.404708</td>\n",
       "      <td>-0.576132</td>\n",
       "      <td>-0.537195</td>\n",
       "      <td>0.508666</td>\n",
       "    </tr>\n",
       "    <tr>\n",
       "      <th>wheelbase_squared</th>\n",
       "      <td>0.120494</td>\n",
       "      <td>-0.525342</td>\n",
       "      <td>-0.309491</td>\n",
       "      <td>0.257453</td>\n",
       "      <td>-0.441067</td>\n",
       "      <td>0.393380</td>\n",
       "      <td>0.466260</td>\n",
       "      <td>-0.176937</td>\n",
       "      <td>0.999186</td>\n",
       "      <td>0.870115</td>\n",
       "      <td>...</td>\n",
       "      <td>0.783705</td>\n",
       "      <td>0.530943</td>\n",
       "      <td>0.487553</td>\n",
       "      <td>0.176612</td>\n",
       "      <td>0.262356</td>\n",
       "      <td>0.275363</td>\n",
       "      <td>-0.351011</td>\n",
       "      <td>-0.447244</td>\n",
       "      <td>-0.508522</td>\n",
       "      <td>0.596444</td>\n",
       "    </tr>\n",
       "    <tr>\n",
       "      <th>carlength_squared</th>\n",
       "      <td>0.157514</td>\n",
       "      <td>-0.362147</td>\n",
       "      <td>-0.214083</td>\n",
       "      <td>0.235385</td>\n",
       "      <td>-0.395815</td>\n",
       "      <td>0.334717</td>\n",
       "      <td>0.490108</td>\n",
       "      <td>-0.054184</td>\n",
       "      <td>0.885765</td>\n",
       "      <td>0.998848</td>\n",
       "      <td>...</td>\n",
       "      <td>0.864474</td>\n",
       "      <td>0.618663</td>\n",
       "      <td>0.597415</td>\n",
       "      <td>0.150970</td>\n",
       "      <td>0.173036</td>\n",
       "      <td>0.457802</td>\n",
       "      <td>-0.284392</td>\n",
       "      <td>-0.639190</td>\n",
       "      <td>-0.669845</td>\n",
       "      <td>0.733817</td>\n",
       "    </tr>\n",
       "    <tr>\n",
       "      <th>carwidth_squared</th>\n",
       "      <td>0.045716</td>\n",
       "      <td>-0.233469</td>\n",
       "      <td>-0.233399</td>\n",
       "      <td>0.298513</td>\n",
       "      <td>-0.205357</td>\n",
       "      <td>0.130088</td>\n",
       "      <td>0.470292</td>\n",
       "      <td>-0.052542</td>\n",
       "      <td>0.794547</td>\n",
       "      <td>0.837390</td>\n",
       "      <td>...</td>\n",
       "      <td>0.864000</td>\n",
       "      <td>0.682446</td>\n",
       "      <td>0.557737</td>\n",
       "      <td>0.197715</td>\n",
       "      <td>0.194755</td>\n",
       "      <td>0.586693</td>\n",
       "      <td>-0.215469</td>\n",
       "      <td>-0.592358</td>\n",
       "      <td>-0.625980</td>\n",
       "      <td>0.755063</td>\n",
       "    </tr>\n",
       "    <tr>\n",
       "      <th>carheight_squared</th>\n",
       "      <td>0.253098</td>\n",
       "      <td>-0.537668</td>\n",
       "      <td>-0.285456</td>\n",
       "      <td>0.091875</td>\n",
       "      <td>-0.550198</td>\n",
       "      <td>0.570672</td>\n",
       "      <td>-0.015573</td>\n",
       "      <td>-0.106704</td>\n",
       "      <td>0.591083</td>\n",
       "      <td>0.493530</td>\n",
       "      <td>...</td>\n",
       "      <td>0.290503</td>\n",
       "      <td>0.023599</td>\n",
       "      <td>0.173811</td>\n",
       "      <td>-0.056127</td>\n",
       "      <td>0.263381</td>\n",
       "      <td>-0.140949</td>\n",
       "      <td>-0.314551</td>\n",
       "      <td>-0.076555</td>\n",
       "      <td>-0.119139</td>\n",
       "      <td>0.121990</td>\n",
       "    </tr>\n",
       "    <tr>\n",
       "      <th>curbweight_squared</th>\n",
       "      <td>0.036202</td>\n",
       "      <td>-0.236671</td>\n",
       "      <td>-0.221943</td>\n",
       "      <td>0.310994</td>\n",
       "      <td>-0.187431</td>\n",
       "      <td>0.126234</td>\n",
       "      <td>0.572193</td>\n",
       "      <td>0.037392</td>\n",
       "      <td>0.779766</td>\n",
       "      <td>0.856286</td>\n",
       "      <td>...</td>\n",
       "      <td>1.000000</td>\n",
       "      <td>0.814410</td>\n",
       "      <td>0.620941</td>\n",
       "      <td>0.203955</td>\n",
       "      <td>0.173530</td>\n",
       "      <td>0.675035</td>\n",
       "      <td>-0.268299</td>\n",
       "      <td>-0.664120</td>\n",
       "      <td>-0.711316</td>\n",
       "      <td>0.873608</td>\n",
       "    </tr>\n",
       "    <tr>\n",
       "      <th>enginesize_squared</th>\n",
       "      <td>-0.078822</td>\n",
       "      <td>-0.089206</td>\n",
       "      <td>-0.036090</td>\n",
       "      <td>0.050565</td>\n",
       "      <td>0.009120</td>\n",
       "      <td>-0.080259</td>\n",
       "      <td>0.475479</td>\n",
       "      <td>0.169477</td>\n",
       "      <td>0.521781</td>\n",
       "      <td>0.607030</td>\n",
       "      <td>...</td>\n",
       "      <td>0.814410</td>\n",
       "      <td>1.000000</td>\n",
       "      <td>0.505641</td>\n",
       "      <td>0.183028</td>\n",
       "      <td>0.015306</td>\n",
       "      <td>0.759052</td>\n",
       "      <td>-0.208701</td>\n",
       "      <td>-0.511863</td>\n",
       "      <td>-0.542784</td>\n",
       "      <td>0.905383</td>\n",
       "    </tr>\n",
       "    <tr>\n",
       "      <th>boreratio_squared</th>\n",
       "      <td>0.260587</td>\n",
       "      <td>-0.128438</td>\n",
       "      <td>-0.055511</td>\n",
       "      <td>0.215725</td>\n",
       "      <td>-0.112732</td>\n",
       "      <td>0.006043</td>\n",
       "      <td>0.486464</td>\n",
       "      <td>0.191152</td>\n",
       "      <td>0.488411</td>\n",
       "      <td>0.602958</td>\n",
       "      <td>...</td>\n",
       "      <td>0.620941</td>\n",
       "      <td>0.505641</td>\n",
       "      <td>1.000000</td>\n",
       "      <td>-0.046238</td>\n",
       "      <td>0.013142</td>\n",
       "      <td>0.521775</td>\n",
       "      <td>-0.244753</td>\n",
       "      <td>-0.566526</td>\n",
       "      <td>-0.574380</td>\n",
       "      <td>0.639997</td>\n",
       "    </tr>\n",
       "    <tr>\n",
       "      <th>stroke_squared</th>\n",
       "      <td>-0.162609</td>\n",
       "      <td>-0.003567</td>\n",
       "      <td>-0.243359</td>\n",
       "      <td>0.231845</td>\n",
       "      <td>0.010969</td>\n",
       "      <td>-0.013577</td>\n",
       "      <td>0.071915</td>\n",
       "      <td>-0.140776</td>\n",
       "      <td>0.178913</td>\n",
       "      <td>0.150709</td>\n",
       "      <td>...</td>\n",
       "      <td>0.203955</td>\n",
       "      <td>0.183028</td>\n",
       "      <td>-0.046238</td>\n",
       "      <td>1.000000</td>\n",
       "      <td>0.205517</td>\n",
       "      <td>0.044951</td>\n",
       "      <td>-0.078886</td>\n",
       "      <td>-0.058768</td>\n",
       "      <td>-0.057624</td>\n",
       "      <td>0.245206</td>\n",
       "    </tr>\n",
       "    <tr>\n",
       "      <th>compressionratio_squared</th>\n",
       "      <td>0.148533</td>\n",
       "      <td>-0.179647</td>\n",
       "      <td>-0.991709</td>\n",
       "      <td>0.334178</td>\n",
       "      <td>-0.181913</td>\n",
       "      <td>0.138596</td>\n",
       "      <td>0.118280</td>\n",
       "      <td>-0.028422</td>\n",
       "      <td>0.261761</td>\n",
       "      <td>0.172177</td>\n",
       "      <td>...</td>\n",
       "      <td>0.173530</td>\n",
       "      <td>0.015306</td>\n",
       "      <td>0.013142</td>\n",
       "      <td>0.205517</td>\n",
       "      <td>1.000000</td>\n",
       "      <td>-0.155548</td>\n",
       "      <td>-0.424410</td>\n",
       "      <td>0.303660</td>\n",
       "      <td>0.260434</td>\n",
       "      <td>0.058423</td>\n",
       "    </tr>\n",
       "    <tr>\n",
       "      <th>horsepower_squared</th>\n",
       "      <td>-0.019594</td>\n",
       "      <td>0.077912</td>\n",
       "      <td>0.142254</td>\n",
       "      <td>0.177224</td>\n",
       "      <td>0.153551</td>\n",
       "      <td>-0.161815</td>\n",
       "      <td>0.467854</td>\n",
       "      <td>0.347196</td>\n",
       "      <td>0.272997</td>\n",
       "      <td>0.457182</td>\n",
       "      <td>...</td>\n",
       "      <td>0.675035</td>\n",
       "      <td>0.759052</td>\n",
       "      <td>0.521775</td>\n",
       "      <td>0.044951</td>\n",
       "      <td>-0.155548</td>\n",
       "      <td>1.000000</td>\n",
       "      <td>0.129402</td>\n",
       "      <td>-0.616939</td>\n",
       "      <td>-0.601298</td>\n",
       "      <td>0.761117</td>\n",
       "    </tr>\n",
       "    <tr>\n",
       "      <th>peakrpm_squared</th>\n",
       "      <td>-0.204893</td>\n",
       "      <td>0.266609</td>\n",
       "      <td>0.453793</td>\n",
       "      <td>-0.176900</td>\n",
       "      <td>0.247700</td>\n",
       "      <td>-0.111122</td>\n",
       "      <td>-0.024714</td>\n",
       "      <td>0.206637</td>\n",
       "      <td>-0.351729</td>\n",
       "      <td>-0.285182</td>\n",
       "      <td>...</td>\n",
       "      <td>-0.268299</td>\n",
       "      <td>-0.208701</td>\n",
       "      <td>-0.244753</td>\n",
       "      <td>-0.078886</td>\n",
       "      <td>-0.424410</td>\n",
       "      <td>0.129402</td>\n",
       "      <td>1.000000</td>\n",
       "      <td>-0.104458</td>\n",
       "      <td>-0.070149</td>\n",
       "      <td>-0.275140</td>\n",
       "    </tr>\n",
       "    <tr>\n",
       "      <th>citympg_squared</th>\n",
       "      <td>-0.023611</td>\n",
       "      <td>-0.012111</td>\n",
       "      <td>-0.254841</td>\n",
       "      <td>-0.200254</td>\n",
       "      <td>0.041177</td>\n",
       "      <td>0.013135</td>\n",
       "      <td>-0.411884</td>\n",
       "      <td>-0.130971</td>\n",
       "      <td>-0.453105</td>\n",
       "      <td>-0.650193</td>\n",
       "      <td>...</td>\n",
       "      <td>-0.664120</td>\n",
       "      <td>-0.511863</td>\n",
       "      <td>-0.566526</td>\n",
       "      <td>-0.058768</td>\n",
       "      <td>0.303660</td>\n",
       "      <td>-0.616939</td>\n",
       "      <td>-0.104458</td>\n",
       "      <td>1.000000</td>\n",
       "      <td>0.974584</td>\n",
       "      <td>-0.637048</td>\n",
       "    </tr>\n",
       "    <tr>\n",
       "      <th>highwaympg_squared</th>\n",
       "      <td>-0.017436</td>\n",
       "      <td>0.041842</td>\n",
       "      <td>-0.207156</td>\n",
       "      <td>-0.249370</td>\n",
       "      <td>0.047352</td>\n",
       "      <td>-0.014230</td>\n",
       "      <td>-0.424078</td>\n",
       "      <td>-0.098950</td>\n",
       "      <td>-0.512591</td>\n",
       "      <td>-0.676871</td>\n",
       "      <td>...</td>\n",
       "      <td>-0.711316</td>\n",
       "      <td>-0.542784</td>\n",
       "      <td>-0.574380</td>\n",
       "      <td>-0.057624</td>\n",
       "      <td>0.260434</td>\n",
       "      <td>-0.601298</td>\n",
       "      <td>-0.070149</td>\n",
       "      <td>0.974584</td>\n",
       "      <td>1.000000</td>\n",
       "      <td>-0.655481</td>\n",
       "    </tr>\n",
       "    <tr>\n",
       "      <th>log_enginesize</th>\n",
       "      <td>0.021369</td>\n",
       "      <td>-0.128053</td>\n",
       "      <td>-0.096957</td>\n",
       "      <td>0.158960</td>\n",
       "      <td>-0.058756</td>\n",
       "      <td>-0.052851</td>\n",
       "      <td>0.531860</td>\n",
       "      <td>0.201986</td>\n",
       "      <td>0.593749</td>\n",
       "      <td>0.731592</td>\n",
       "      <td>...</td>\n",
       "      <td>0.873608</td>\n",
       "      <td>0.905383</td>\n",
       "      <td>0.639997</td>\n",
       "      <td>0.245206</td>\n",
       "      <td>0.058423</td>\n",
       "      <td>0.761117</td>\n",
       "      <td>-0.275140</td>\n",
       "      <td>-0.637048</td>\n",
       "      <td>-0.655481</td>\n",
       "      <td>1.000000</td>\n",
       "    </tr>\n",
       "  </tbody>\n",
       "</table>\n",
       "<p>42 rows × 42 columns</p>\n",
       "</div>"
      ],
      "text/plain": [
       "                            car_ID  symboling  fueltype  aspiration  \\\n",
       "car_ID                    1.000000  -0.151621 -0.125568    0.067729   \n",
       "symboling                -0.151621   1.000000  0.194311   -0.059866   \n",
       "fueltype                 -0.125568   0.194311  1.000000   -0.401397   \n",
       "aspiration                0.067729  -0.059866 -0.401397    1.000000   \n",
       "doornumber               -0.190352   0.664073  0.191491   -0.031792   \n",
       "carbody                   0.098303  -0.596135 -0.147853    0.063028   \n",
       "drivewheel                0.051406  -0.041671 -0.132257    0.066465   \n",
       "enginelocation            0.051483   0.212471  0.040070   -0.057191   \n",
       "wheelbase                 0.129729  -0.531954 -0.308346    0.257611   \n",
       "carlength                 0.170636  -0.357612 -0.212679    0.234539   \n",
       "carwidth                  0.052387  -0.232919 -0.233880    0.300567   \n",
       "carheight                 0.255960  -0.541038 -0.284631    0.087311   \n",
       "curbweight                0.071962  -0.227691 -0.217275    0.324902   \n",
       "enginetype               -0.075130   0.050372  0.082695   -0.102963   \n",
       "cylindernumber           -0.040912   0.197762  0.110617   -0.133119   \n",
       "enginesize               -0.033930  -0.105790 -0.069594    0.108217   \n",
       "fuelsystem                0.204898   0.091163  0.041529    0.288086   \n",
       "boreratio                 0.260064  -0.130051 -0.054451    0.212614   \n",
       "stroke                   -0.160824  -0.008735 -0.241829    0.222982   \n",
       "compressionratio          0.150276  -0.178515 -0.984356    0.295541   \n",
       "horsepower               -0.015006   0.070873  0.163926    0.241685   \n",
       "peakrpm                  -0.203789   0.273606  0.476883   -0.183383   \n",
       "citympg                   0.015940  -0.035823 -0.255963   -0.202362   \n",
       "highwaympg                0.011255   0.034606 -0.191392   -0.254416   \n",
       "price                    -0.109093  -0.079978 -0.105679    0.177926   \n",
       "brand                     0.967084  -0.091524 -0.063029    0.021522   \n",
       "model                    -0.142009   0.110629  0.036630   -0.132767   \n",
       "power_to_weight_ratio    -0.075771   0.280358  0.394593    0.153542   \n",
       "wheelbase_squared         0.120494  -0.525342 -0.309491    0.257453   \n",
       "carlength_squared         0.157514  -0.362147 -0.214083    0.235385   \n",
       "carwidth_squared          0.045716  -0.233469 -0.233399    0.298513   \n",
       "carheight_squared         0.253098  -0.537668 -0.285456    0.091875   \n",
       "curbweight_squared        0.036202  -0.236671 -0.221943    0.310994   \n",
       "enginesize_squared       -0.078822  -0.089206 -0.036090    0.050565   \n",
       "boreratio_squared         0.260587  -0.128438 -0.055511    0.215725   \n",
       "stroke_squared           -0.162609  -0.003567 -0.243359    0.231845   \n",
       "compressionratio_squared  0.148533  -0.179647 -0.991709    0.334178   \n",
       "horsepower_squared       -0.019594   0.077912  0.142254    0.177224   \n",
       "peakrpm_squared          -0.204893   0.266609  0.453793   -0.176900   \n",
       "citympg_squared          -0.023611  -0.012111 -0.254841   -0.200254   \n",
       "highwaympg_squared       -0.017436   0.041842 -0.207156   -0.249370   \n",
       "log_enginesize            0.021369  -0.128053 -0.096957    0.158960   \n",
       "\n",
       "                          doornumber   carbody  drivewheel  enginelocation  \\\n",
       "car_ID                     -0.190352  0.098303    0.051406        0.051483   \n",
       "symboling                   0.664073 -0.596135   -0.041671        0.212471   \n",
       "fueltype                    0.191491 -0.147853   -0.132257        0.040070   \n",
       "aspiration                 -0.031792  0.063028    0.066465       -0.057191   \n",
       "doornumber                  1.000000 -0.680358    0.098954        0.137757   \n",
       "carbody                    -0.680358  1.000000   -0.155745       -0.277009   \n",
       "drivewheel                  0.098954 -0.155745    1.000000        0.147865   \n",
       "enginelocation              0.137757 -0.277009    0.147865        1.000000   \n",
       "wheelbase                  -0.447357  0.401362    0.459745       -0.187790   \n",
       "carlength                  -0.398568  0.334433    0.485649       -0.050989   \n",
       "carwidth                   -0.207168  0.131710    0.470751       -0.051698   \n",
       "carheight                  -0.552208  0.568534   -0.019719       -0.106234   \n",
       "curbweight                 -0.197379  0.128467    0.575111        0.050468   \n",
       "enginetype                  0.062431 -0.037024   -0.116823        0.114127   \n",
       "cylindernumber              0.154322 -0.048408    0.223238        0.135541   \n",
       "enginesize                 -0.020742 -0.073352    0.524307        0.196826   \n",
       "fuelsystem                  0.015519 -0.065079    0.424686        0.105971   \n",
       "boreratio                  -0.119258  0.010549    0.481827        0.185042   \n",
       "stroke                      0.011082 -0.015325    0.071591       -0.138455   \n",
       "compressionratio           -0.177888  0.136243    0.127479       -0.019762   \n",
       "horsepower                  0.126947 -0.153928    0.518686        0.317839   \n",
       "peakrpm                     0.247668 -0.109643   -0.039417        0.198461   \n",
       "citympg                     0.012417  0.031697   -0.449581       -0.153487   \n",
       "highwaympg                  0.036330 -0.007170   -0.452220       -0.102026   \n",
       "price                      -0.031835 -0.083976    0.577992        0.324973   \n",
       "brand                      -0.164705  0.096025   -0.041645        0.052188   \n",
       "model                       0.075963 -0.072089   -0.049642       -0.023342   \n",
       "power_to_weight_ratio       0.325913 -0.320201    0.339333        0.442346   \n",
       "wheelbase_squared          -0.441067  0.393380    0.466260       -0.176937   \n",
       "carlength_squared          -0.395815  0.334717    0.490108       -0.054184   \n",
       "carwidth_squared           -0.205357  0.130088    0.470292       -0.052542   \n",
       "carheight_squared          -0.550198  0.570672   -0.015573       -0.106704   \n",
       "curbweight_squared         -0.187431  0.126234    0.572193        0.037392   \n",
       "enginesize_squared          0.009120 -0.080259    0.475479        0.169477   \n",
       "boreratio_squared          -0.112732  0.006043    0.486464        0.191152   \n",
       "stroke_squared              0.010969 -0.013577    0.071915       -0.140776   \n",
       "compressionratio_squared   -0.181913  0.138596    0.118280       -0.028422   \n",
       "horsepower_squared          0.153551 -0.161815    0.467854        0.347196   \n",
       "peakrpm_squared             0.247700 -0.111122   -0.024714        0.206637   \n",
       "citympg_squared             0.041177  0.013135   -0.411884       -0.130971   \n",
       "highwaympg_squared          0.047352 -0.014230   -0.424078       -0.098950   \n",
       "log_enginesize             -0.058756 -0.052851    0.531860        0.201986   \n",
       "\n",
       "                          wheelbase  carlength  ...  curbweight_squared  \\\n",
       "car_ID                     0.129729   0.170636  ...            0.036202   \n",
       "symboling                 -0.531954  -0.357612  ...           -0.236671   \n",
       "fueltype                  -0.308346  -0.212679  ...           -0.221943   \n",
       "aspiration                 0.257611   0.234539  ...            0.310994   \n",
       "doornumber                -0.447357  -0.398568  ...           -0.187431   \n",
       "carbody                    0.401362   0.334433  ...            0.126234   \n",
       "drivewheel                 0.459745   0.485649  ...            0.572193   \n",
       "enginelocation            -0.187790  -0.050989  ...            0.037392   \n",
       "wheelbase                  1.000000   0.874587  ...            0.779766   \n",
       "carlength                  0.874587   1.000000  ...            0.856286   \n",
       "carwidth                   0.795144   0.841118  ...            0.863975   \n",
       "carheight                  0.589435   0.491029  ...            0.283671   \n",
       "curbweight                 0.776386   0.877728  ...            0.993413   \n",
       "enginetype                -0.135577  -0.113291  ...           -0.058688   \n",
       "cylindernumber            -0.184596  -0.109585  ...           -0.055927   \n",
       "enginesize                 0.569329   0.683360  ...            0.867932   \n",
       "fuelsystem                 0.384601   0.557810  ...            0.566521   \n",
       "boreratio                  0.488750   0.606454  ...            0.618482   \n",
       "stroke                     0.160959   0.129533  ...            0.178336   \n",
       "compressionratio           0.249786   0.158414  ...            0.159007   \n",
       "horsepower                 0.353294   0.552623  ...            0.738891   \n",
       "peakrpm                   -0.360469  -0.287242  ...           -0.273309   \n",
       "citympg                   -0.470414  -0.670909  ...           -0.719538   \n",
       "highwaympg                -0.544082  -0.704662  ...           -0.768329   \n",
       "price                      0.577816   0.682920  ...            0.847939   \n",
       "brand                      0.006009   0.053227  ...           -0.092909   \n",
       "model                     -0.185034  -0.128629  ...           -0.032740   \n",
       "power_to_weight_ratio     -0.049219   0.162823  ...            0.330234   \n",
       "wheelbase_squared          0.999186   0.870115  ...            0.783705   \n",
       "carlength_squared          0.885765   0.998848  ...            0.864474   \n",
       "carwidth_squared           0.794547   0.837390  ...            0.864000   \n",
       "carheight_squared          0.591083   0.493530  ...            0.290503   \n",
       "curbweight_squared         0.779766   0.856286  ...            1.000000   \n",
       "enginesize_squared         0.521781   0.607030  ...            0.814410   \n",
       "boreratio_squared          0.488411   0.602958  ...            0.620941   \n",
       "stroke_squared             0.178913   0.150709  ...            0.203955   \n",
       "compressionratio_squared   0.261761   0.172177  ...            0.173530   \n",
       "horsepower_squared         0.272997   0.457182  ...            0.675035   \n",
       "peakrpm_squared           -0.351729  -0.285182  ...           -0.268299   \n",
       "citympg_squared           -0.453105  -0.650193  ...           -0.664120   \n",
       "highwaympg_squared        -0.512591  -0.676871  ...           -0.711316   \n",
       "log_enginesize             0.593749   0.731592  ...            0.873608   \n",
       "\n",
       "                          enginesize_squared  boreratio_squared  \\\n",
       "car_ID                             -0.078822           0.260587   \n",
       "symboling                          -0.089206          -0.128438   \n",
       "fueltype                           -0.036090          -0.055511   \n",
       "aspiration                          0.050565           0.215725   \n",
       "doornumber                          0.009120          -0.112732   \n",
       "carbody                            -0.080259           0.006043   \n",
       "drivewheel                          0.475479           0.486464   \n",
       "enginelocation                      0.169477           0.191152   \n",
       "wheelbase                           0.521781           0.488411   \n",
       "carlength                           0.607030           0.602958   \n",
       "carwidth                            0.678579           0.562044   \n",
       "carheight                           0.019461           0.171213   \n",
       "curbweight                          0.780490           0.650056   \n",
       "enginetype                          0.093418           0.030955   \n",
       "cylindernumber                     -0.048327          -0.038892   \n",
       "enginesize                          0.974643           0.587609   \n",
       "fuelsystem                          0.426543           0.474906   \n",
       "boreratio                           0.500950           0.999012   \n",
       "stroke                              0.165201          -0.064449   \n",
       "compressionratio                    0.008800           0.007371   \n",
       "horsepower                          0.759524           0.579998   \n",
       "peakrpm                            -0.210318          -0.249540   \n",
       "citympg                            -0.585069          -0.581391   \n",
       "highwaympg                         -0.616441          -0.583649   \n",
       "price                               0.849694           0.559839   \n",
       "brand                              -0.196119           0.200364   \n",
       "model                               0.187981          -0.121646   \n",
       "power_to_weight_ratio               0.470483           0.371624   \n",
       "wheelbase_squared                   0.530943           0.487553   \n",
       "carlength_squared                   0.618663           0.597415   \n",
       "carwidth_squared                    0.682446           0.557737   \n",
       "carheight_squared                   0.023599           0.173811   \n",
       "curbweight_squared                  0.814410           0.620941   \n",
       "enginesize_squared                  1.000000           0.505641   \n",
       "boreratio_squared                   0.505641           1.000000   \n",
       "stroke_squared                      0.183028          -0.046238   \n",
       "compressionratio_squared            0.015306           0.013142   \n",
       "horsepower_squared                  0.759052           0.521775   \n",
       "peakrpm_squared                    -0.208701          -0.244753   \n",
       "citympg_squared                    -0.511863          -0.566526   \n",
       "highwaympg_squared                 -0.542784          -0.574380   \n",
       "log_enginesize                      0.905383           0.639997   \n",
       "\n",
       "                          stroke_squared  compressionratio_squared  \\\n",
       "car_ID                         -0.162609                  0.148533   \n",
       "symboling                      -0.003567                 -0.179647   \n",
       "fueltype                       -0.243359                 -0.991709   \n",
       "aspiration                      0.231845                  0.334178   \n",
       "doornumber                      0.010969                 -0.181913   \n",
       "carbody                        -0.013577                  0.138596   \n",
       "drivewheel                      0.071915                  0.118280   \n",
       "enginelocation                 -0.140776                 -0.028422   \n",
       "wheelbase                       0.178913                  0.261761   \n",
       "carlength                       0.150709                  0.172177   \n",
       "carwidth                        0.199684                  0.195119   \n",
       "carheight                      -0.056877                  0.263083   \n",
       "curbweight                      0.193669                  0.167884   \n",
       "enginetype                     -0.155849                 -0.071134   \n",
       "cylindernumber                 -0.051722                 -0.079630   \n",
       "enginesize                      0.222907                  0.038858   \n",
       "fuelsystem                      0.104736                 -0.073667   \n",
       "boreratio                      -0.038234                  0.011568   \n",
       "stroke                          0.995557                  0.206954   \n",
       "compressionratio                0.183014                  0.996985   \n",
       "horsepower                      0.091597                 -0.191305   \n",
       "peakrpm                        -0.085660                 -0.446425   \n",
       "citympg                        -0.061745                  0.303991   \n",
       "highwaympg                     -0.064830                  0.244560   \n",
       "price                           0.092649                  0.078031   \n",
       "brand                          -0.203171                  0.092336   \n",
       "model                           0.130361                 -0.026055   \n",
       "power_to_weight_ratio           0.006142                 -0.406111   \n",
       "wheelbase_squared               0.176612                  0.262356   \n",
       "carlength_squared               0.150970                  0.173036   \n",
       "carwidth_squared                0.197715                  0.194755   \n",
       "carheight_squared              -0.056127                  0.263381   \n",
       "curbweight_squared              0.203955                  0.173530   \n",
       "enginesize_squared              0.183028                  0.015306   \n",
       "boreratio_squared              -0.046238                  0.013142   \n",
       "stroke_squared                  1.000000                  0.205517   \n",
       "compressionratio_squared        0.205517                  1.000000   \n",
       "horsepower_squared              0.044951                 -0.155548   \n",
       "peakrpm_squared                -0.078886                 -0.424410   \n",
       "citympg_squared                -0.058768                  0.303660   \n",
       "highwaympg_squared             -0.057624                  0.260434   \n",
       "log_enginesize                  0.245206                  0.058423   \n",
       "\n",
       "                          horsepower_squared  peakrpm_squared  \\\n",
       "car_ID                             -0.019594        -0.204893   \n",
       "symboling                           0.077912         0.266609   \n",
       "fueltype                            0.142254         0.453793   \n",
       "aspiration                          0.177224        -0.176900   \n",
       "doornumber                          0.153551         0.247700   \n",
       "carbody                            -0.161815        -0.111122   \n",
       "drivewheel                          0.467854        -0.024714   \n",
       "enginelocation                      0.347196         0.206637   \n",
       "wheelbase                           0.272997        -0.351729   \n",
       "carlength                           0.457182        -0.285182   \n",
       "carwidth                            0.585489        -0.216309   \n",
       "carheight                          -0.145972        -0.315359   \n",
       "curbweight                          0.675593        -0.261205   \n",
       "enginetype                          0.014065         0.000253   \n",
       "cylindernumber                      0.109981         0.228357   \n",
       "enginesize                          0.783063        -0.243307   \n",
       "fuelsystem                          0.548537         0.013492   \n",
       "boreratio                           0.513279        -0.250132   \n",
       "stroke                              0.037764        -0.060976   \n",
       "compressionratio                   -0.163058        -0.412837   \n",
       "horsepower                          0.971579         0.130589   \n",
       "peakrpm                             0.130736         0.997814   \n",
       "citympg                            -0.691907        -0.112513   \n",
       "highwaympg                         -0.652345        -0.057256   \n",
       "price                               0.777000        -0.077344   \n",
       "brand                              -0.080960        -0.142234   \n",
       "model                               0.077165        -0.143115   \n",
       "power_to_weight_ratio               0.859460         0.404708   \n",
       "wheelbase_squared                   0.275363        -0.351011   \n",
       "carlength_squared                   0.457802        -0.284392   \n",
       "carwidth_squared                    0.586693        -0.215469   \n",
       "carheight_squared                  -0.140949        -0.314551   \n",
       "curbweight_squared                  0.675035        -0.268299   \n",
       "enginesize_squared                  0.759052        -0.208701   \n",
       "boreratio_squared                   0.521775        -0.244753   \n",
       "stroke_squared                      0.044951        -0.078886   \n",
       "compressionratio_squared           -0.155548        -0.424410   \n",
       "horsepower_squared                  1.000000         0.129402   \n",
       "peakrpm_squared                     0.129402         1.000000   \n",
       "citympg_squared                    -0.616939        -0.104458   \n",
       "highwaympg_squared                 -0.601298        -0.070149   \n",
       "log_enginesize                      0.761117        -0.275140   \n",
       "\n",
       "                          citympg_squared  highwaympg_squared  log_enginesize  \n",
       "car_ID                          -0.023611           -0.017436        0.021369  \n",
       "symboling                       -0.012111            0.041842       -0.128053  \n",
       "fueltype                        -0.254841           -0.207156       -0.096957  \n",
       "aspiration                      -0.200254           -0.249370        0.158960  \n",
       "doornumber                       0.041177            0.047352       -0.058756  \n",
       "carbody                          0.013135           -0.014230       -0.052851  \n",
       "drivewheel                      -0.411884           -0.424078        0.531860  \n",
       "enginelocation                  -0.130971           -0.098950        0.201986  \n",
       "wheelbase                       -0.453105           -0.512591        0.593749  \n",
       "carlength                       -0.650193           -0.676871        0.731592  \n",
       "carwidth                        -0.597942           -0.630754        0.755993  \n",
       "carheight                       -0.070902           -0.113237        0.119276  \n",
       "curbweight                      -0.708707           -0.748382        0.874296  \n",
       "enginetype                      -0.067392           -0.062288       -0.018108  \n",
       "cylindernumber                  -0.090440           -0.072133       -0.141312  \n",
       "enginesize                      -0.589150           -0.614626        0.976540  \n",
       "fuelsystem                      -0.634874           -0.621702        0.576338  \n",
       "boreratio                       -0.570967           -0.578537        0.637389  \n",
       "stroke                          -0.039696           -0.037393        0.224089  \n",
       "compressionratio                 0.322940            0.279257        0.045261  \n",
       "horsepower                      -0.732696           -0.724122        0.811452  \n",
       "peakrpm                         -0.104042           -0.066208       -0.275756  \n",
       "citympg                          0.985391            0.966753       -0.686703  \n",
       "highwaympg                       0.955046            0.988469       -0.702629  \n",
       "price                           -0.610376           -0.631085        0.846059  \n",
       "brand                            0.040023            0.058447       -0.105664  \n",
       "model                            0.069418            0.084305        0.091502  \n",
       "power_to_weight_ratio           -0.576132           -0.537195        0.508666  \n",
       "wheelbase_squared               -0.447244           -0.508522        0.596444  \n",
       "carlength_squared               -0.639190           -0.669845        0.733817  \n",
       "carwidth_squared                -0.592358           -0.625980        0.755063  \n",
       "carheight_squared               -0.076555           -0.119139        0.121990  \n",
       "curbweight_squared              -0.664120           -0.711316        0.873608  \n",
       "enginesize_squared              -0.511863           -0.542784        0.905383  \n",
       "boreratio_squared               -0.566526           -0.574380        0.639997  \n",
       "stroke_squared                  -0.058768           -0.057624        0.245206  \n",
       "compressionratio_squared         0.303660            0.260434        0.058423  \n",
       "horsepower_squared              -0.616939           -0.601298        0.761117  \n",
       "peakrpm_squared                 -0.104458           -0.070149       -0.275140  \n",
       "citympg_squared                  1.000000            0.974584       -0.637048  \n",
       "highwaympg_squared               0.974584            1.000000       -0.655481  \n",
       "log_enginesize                  -0.637048           -0.655481        1.000000  \n",
       "\n",
       "[42 rows x 42 columns]"
      ]
     },
     "execution_count": 12,
     "metadata": {},
     "output_type": "execute_result"
    }
   ],
   "source": [
    "df.corr()"
   ]
  },
  {
   "cell_type": "code",
   "execution_count": 14,
   "id": "87ea25ea-07e8-477d-bb76-f3c1dc9fc148",
   "metadata": {},
   "outputs": [
    {
     "data": {
      "text/html": [
       "<table class=\"simpletable\">\n",
       "<caption>OLS Regression Results</caption>\n",
       "<tr>\n",
       "  <th>Dep. Variable:</th>    <td>enginesize_squared</td> <th>  R-squared:         </th> <td>   0.722</td>\n",
       "</tr>\n",
       "<tr>\n",
       "  <th>Model:</th>                    <td>OLS</td>        <th>  Adj. R-squared:    </th> <td>   0.721</td>\n",
       "</tr>\n",
       "<tr>\n",
       "  <th>Method:</th>              <td>Least Squares</td>   <th>  F-statistic:       </th> <td>   527.2</td>\n",
       "</tr>\n",
       "<tr>\n",
       "  <th>Date:</th>              <td>Mon, 14 Oct 2024</td>  <th>  Prob (F-statistic):</th> <td>2.46e-58</td>\n",
       "</tr>\n",
       "<tr>\n",
       "  <th>Time:</th>                  <td>21:09:54</td>      <th>  Log-Likelihood:    </th> <td> -2120.3</td>\n",
       "</tr>\n",
       "<tr>\n",
       "  <th>No. Observations:</th>       <td>   205</td>       <th>  AIC:               </th> <td>   4245.</td>\n",
       "</tr>\n",
       "<tr>\n",
       "  <th>Df Residuals:</th>           <td>   203</td>       <th>  BIC:               </th> <td>   4251.</td>\n",
       "</tr>\n",
       "<tr>\n",
       "  <th>Df Model:</th>               <td>     1</td>       <th>                     </th>     <td> </td>   \n",
       "</tr>\n",
       "<tr>\n",
       "  <th>Covariance Type:</th>       <td>nonrobust</td>     <th>                     </th>     <td> </td>   \n",
       "</tr>\n",
       "</table>\n",
       "<table class=\"simpletable\">\n",
       "<tr>\n",
       "      <td></td>         <th>coef</th>     <th>std err</th>      <th>t</th>      <th>P>|t|</th>  <th>[0.025</th>    <th>0.975]</th>  \n",
       "</tr>\n",
       "<tr>\n",
       "  <th>Intercept</th> <td>-2328.2023</td> <td> 1024.049</td> <td>   -2.274</td> <td> 0.024</td> <td>-4347.339</td> <td> -309.066</td>\n",
       "</tr>\n",
       "<tr>\n",
       "  <th>price</th>     <td>    1.5184</td> <td>    0.066</td> <td>   22.960</td> <td> 0.000</td> <td>    1.388</td> <td>    1.649</td>\n",
       "</tr>\n",
       "</table>\n",
       "<table class=\"simpletable\">\n",
       "<tr>\n",
       "  <th>Omnibus:</th>       <td>137.841</td> <th>  Durbin-Watson:     </th> <td>   0.992</td>\n",
       "</tr>\n",
       "<tr>\n",
       "  <th>Prob(Omnibus):</th> <td> 0.000</td>  <th>  Jarque-Bera (JB):  </th> <td>1963.475</td>\n",
       "</tr>\n",
       "<tr>\n",
       "  <th>Skew:</th>          <td> 2.304</td>  <th>  Prob(JB):          </th> <td>    0.00</td>\n",
       "</tr>\n",
       "<tr>\n",
       "  <th>Kurtosis:</th>      <td>17.444</td>  <th>  Cond. No.          </th> <td>3.01e+04</td>\n",
       "</tr>\n",
       "</table><br/><br/>Notes:<br/>[1] Standard Errors assume that the covariance matrix of the errors is correctly specified.<br/>[2] The condition number is large, 3.01e+04. This might indicate that there are<br/>strong multicollinearity or other numerical problems."
      ],
      "text/latex": [
       "\\begin{center}\n",
       "\\begin{tabular}{lclc}\n",
       "\\toprule\n",
       "\\textbf{Dep. Variable:}    & enginesize\\_squared & \\textbf{  R-squared:         } &     0.722   \\\\\n",
       "\\textbf{Model:}            &         OLS         & \\textbf{  Adj. R-squared:    } &     0.721   \\\\\n",
       "\\textbf{Method:}           &    Least Squares    & \\textbf{  F-statistic:       } &     527.2   \\\\\n",
       "\\textbf{Date:}             &   Mon, 14 Oct 2024  & \\textbf{  Prob (F-statistic):} &  2.46e-58   \\\\\n",
       "\\textbf{Time:}             &       21:09:54      & \\textbf{  Log-Likelihood:    } &   -2120.3   \\\\\n",
       "\\textbf{No. Observations:} &           205       & \\textbf{  AIC:               } &     4245.   \\\\\n",
       "\\textbf{Df Residuals:}     &           203       & \\textbf{  BIC:               } &     4251.   \\\\\n",
       "\\textbf{Df Model:}         &             1       & \\textbf{                     } &             \\\\\n",
       "\\textbf{Covariance Type:}  &      nonrobust      & \\textbf{                     } &             \\\\\n",
       "\\bottomrule\n",
       "\\end{tabular}\n",
       "\\begin{tabular}{lcccccc}\n",
       "                   & \\textbf{coef} & \\textbf{std err} & \\textbf{t} & \\textbf{P$> |$t$|$} & \\textbf{[0.025} & \\textbf{0.975]}  \\\\\n",
       "\\midrule\n",
       "\\textbf{Intercept} &   -2328.2023  &     1024.049     &    -2.274  &         0.024        &    -4347.339    &     -309.066     \\\\\n",
       "\\textbf{price}     &       1.5184  &        0.066     &    22.960  &         0.000        &        1.388    &        1.649     \\\\\n",
       "\\bottomrule\n",
       "\\end{tabular}\n",
       "\\begin{tabular}{lclc}\n",
       "\\textbf{Omnibus:}       & 137.841 & \\textbf{  Durbin-Watson:     } &    0.992  \\\\\n",
       "\\textbf{Prob(Omnibus):} &   0.000 & \\textbf{  Jarque-Bera (JB):  } & 1963.475  \\\\\n",
       "\\textbf{Skew:}          &   2.304 & \\textbf{  Prob(JB):          } &     0.00  \\\\\n",
       "\\textbf{Kurtosis:}      &  17.444 & \\textbf{  Cond. No.          } & 3.01e+04  \\\\\n",
       "\\bottomrule\n",
       "\\end{tabular}\n",
       "%\\caption{OLS Regression Results}\n",
       "\\end{center}\n",
       "\n",
       "Notes: \\newline\n",
       " [1] Standard Errors assume that the covariance matrix of the errors is correctly specified. \\newline\n",
       " [2] The condition number is large, 3.01e+04. This might indicate that there are \\newline\n",
       " strong multicollinearity or other numerical problems."
      ],
      "text/plain": [
       "<class 'statsmodels.iolib.summary.Summary'>\n",
       "\"\"\"\n",
       "                            OLS Regression Results                            \n",
       "==============================================================================\n",
       "Dep. Variable:     enginesize_squared   R-squared:                       0.722\n",
       "Model:                            OLS   Adj. R-squared:                  0.721\n",
       "Method:                 Least Squares   F-statistic:                     527.2\n",
       "Date:                Mon, 14 Oct 2024   Prob (F-statistic):           2.46e-58\n",
       "Time:                        21:09:54   Log-Likelihood:                -2120.3\n",
       "No. Observations:                 205   AIC:                             4245.\n",
       "Df Residuals:                     203   BIC:                             4251.\n",
       "Df Model:                           1                                         \n",
       "Covariance Type:            nonrobust                                         \n",
       "==============================================================================\n",
       "                 coef    std err          t      P>|t|      [0.025      0.975]\n",
       "------------------------------------------------------------------------------\n",
       "Intercept  -2328.2023   1024.049     -2.274      0.024   -4347.339    -309.066\n",
       "price          1.5184      0.066     22.960      0.000       1.388       1.649\n",
       "==============================================================================\n",
       "Omnibus:                      137.841   Durbin-Watson:                   0.992\n",
       "Prob(Omnibus):                  0.000   Jarque-Bera (JB):             1963.475\n",
       "Skew:                           2.304   Prob(JB):                         0.00\n",
       "Kurtosis:                      17.444   Cond. No.                     3.01e+04\n",
       "==============================================================================\n",
       "\n",
       "Notes:\n",
       "[1] Standard Errors assume that the covariance matrix of the errors is correctly specified.\n",
       "[2] The condition number is large, 3.01e+04. This might indicate that there are\n",
       "strong multicollinearity or other numerical problems.\n",
       "\"\"\""
      ]
     },
     "execution_count": 14,
     "metadata": {},
     "output_type": "execute_result"
    }
   ],
   "source": [
    "import statsmodels.formula.api as smf\n",
    "lm = smf.ols(\"enginesize_squared ~ price\", df)\n",
    "model = lm.fit()\n",
    "model.summary()"
   ]
  },
  {
   "cell_type": "code",
   "execution_count": 15,
   "id": "45dcf6d1-47e9-4359-bfbf-234bc45e74d6",
   "metadata": {},
   "outputs": [
    {
     "data": {
      "text/plain": [
       "Intercept   -2328.202317\n",
       "price           1.518398\n",
       "dtype: float64"
      ]
     },
     "execution_count": 15,
     "metadata": {},
     "output_type": "execute_result"
    }
   ],
   "source": [
    "model.params"
   ]
  },
  {
   "cell_type": "code",
   "execution_count": 18,
   "id": "bd1c62ff-a060-41cc-b063-22c7e64e888b",
   "metadata": {},
   "outputs": [
    {
     "data": {
      "text/html": [
       "<table class=\"simpletable\">\n",
       "<tr>\n",
       "      <td></td>         <th>coef</th>     <th>std err</th>      <th>t</th>      <th>P>|t|</th>  <th>[0.025</th>    <th>0.975]</th>  \n",
       "</tr>\n",
       "<tr>\n",
       "  <th>Intercept</th> <td>-2328.2023</td> <td> 1024.049</td> <td>   -2.274</td> <td> 0.024</td> <td>-4347.339</td> <td> -309.066</td>\n",
       "</tr>\n",
       "<tr>\n",
       "  <th>price</th>     <td>    1.5184</td> <td>    0.066</td> <td>   22.960</td> <td> 0.000</td> <td>    1.388</td> <td>    1.649</td>\n",
       "</tr>\n",
       "</table>"
      ],
      "text/latex": [
       "\\begin{center}\n",
       "\\begin{tabular}{lcccccc}\n",
       "\\toprule\n",
       "                   & \\textbf{coef} & \\textbf{std err} & \\textbf{t} & \\textbf{P$> |$t$|$} & \\textbf{[0.025} & \\textbf{0.975]}  \\\\\n",
       "\\midrule\n",
       "\\textbf{Intercept} &   -2328.2023  &     1024.049     &    -2.274  &         0.024        &    -4347.339    &     -309.066     \\\\\n",
       "\\textbf{price}     &       1.5184  &        0.066     &    22.960  &         0.000        &        1.388    &        1.649     \\\\\n",
       "\\bottomrule\n",
       "\\end{tabular}\n",
       "\\end{center}"
      ],
      "text/plain": [
       "<class 'statsmodels.iolib.table.SimpleTable'>"
      ]
     },
     "execution_count": 18,
     "metadata": {},
     "output_type": "execute_result"
    }
   ],
   "source": [
    "model.summary().tables[1]"
   ]
  },
  {
   "cell_type": "code",
   "execution_count": 20,
   "id": "3fc3bd12-2e71-4a26-badd-b2d517650e64",
   "metadata": {},
   "outputs": [
    {
     "data": {
      "text/plain": [
       "0.7206105041361652"
      ]
     },
     "execution_count": 20,
     "metadata": {},
     "output_type": "execute_result"
    }
   ],
   "source": [
    "model.rsquared_adj"
   ]
  },
  {
   "cell_type": "code",
   "execution_count": 22,
   "id": "125c4224-550c-412e-8804-5f3092f1d3ad",
   "metadata": {},
   "outputs": [],
   "source": [
    "from sklearn.linear_model import LinearRegression"
   ]
  },
  {
   "cell_type": "code",
   "execution_count": 24,
   "id": "2ff3ab5e-940d-44a5-9085-3b940798fa81",
   "metadata": {},
   "outputs": [
    {
     "data": {
      "text/plain": [
       "array([1.51839751])"
      ]
     },
     "execution_count": 24,
     "metadata": {},
     "output_type": "execute_result"
    }
   ],
   "source": [
    "X = df[[\"price\"]]\n",
    "y = df[\"enginesize_squared\"]\n",
    "reg = LinearRegression()\n",
    "model = reg.fit(X, y)\n",
    "model.intercept_\n",
    "model.coef_"
   ]
  },
  {
   "cell_type": "code",
   "execution_count": 26,
   "id": "1a633e22-2194-4152-acb2-40cfd5bf55eb",
   "metadata": {},
   "outputs": [
    {
     "data": {
      "text/plain": [
       "0.721980060488439"
      ]
     },
     "execution_count": 26,
     "metadata": {},
     "output_type": "execute_result"
    }
   ],
   "source": [
    "model.score(X,y)"
   ]
  },
  {
   "cell_type": "code",
   "execution_count": 28,
   "id": "f928cbe3-8024-4afe-bb19-0aca07766e9d",
   "metadata": {},
   "outputs": [
    {
     "data": {
      "text/plain": [
       "array([18162.57207703, 22725.35659389, 22725.35659389, 18853.44294397,\n",
       "       24167.83422817, 20827.35970667, 24562.61758071, 26399.87856753,\n",
       "       33923.53822844, 24789.11238205])"
      ]
     },
     "execution_count": 28,
     "metadata": {},
     "output_type": "execute_result"
    }
   ],
   "source": [
    "model.predict(X)[0:10]"
   ]
  },
  {
   "cell_type": "code",
   "execution_count": 30,
   "id": "d343e3c3-2d9b-4d7b-860b-d4d850858e65",
   "metadata": {},
   "outputs": [],
   "source": [
    "yeni_veri = [[10],[100],[500],[1000]]"
   ]
  },
  {
   "cell_type": "code",
   "execution_count": 32,
   "id": "030c5005-5794-46d4-a349-17c9f3cf0fda",
   "metadata": {},
   "outputs": [
    {
     "data": {
      "text/plain": [
       "array([-2313.01834221, -2176.36256633, -1569.00356242,  -809.80480754])"
      ]
     },
     "execution_count": 32,
     "metadata": {},
     "output_type": "execute_result"
    }
   ],
   "source": [
    "model.predict(yeni_veri)"
   ]
  },
  {
   "cell_type": "code",
   "execution_count": 34,
   "id": "a19ff9f8-8c78-419c-8f0f-7567820cfb48",
   "metadata": {},
   "outputs": [],
   "source": [
    "from sklearn.metrics import mean_squared_error, r2_score"
   ]
  },
  {
   "cell_type": "code",
   "execution_count": 36,
   "id": "eb21ce6a-3834-492d-a458-85f66d4d5873",
   "metadata": {},
   "outputs": [],
   "source": [
    "lm = smf.ols(\"enginesize_squared ~ price \", df)\n",
    "model = lm.fit()"
   ]
  },
  {
   "cell_type": "code",
   "execution_count": 38,
   "id": "1ea4e35a-04ac-46d8-94de-6e2892ae5dfb",
   "metadata": {},
   "outputs": [],
   "source": [
    "mse = mean_squared_error(y, model.fittedvalues)"
   ]
  },
  {
   "cell_type": "code",
   "execution_count": 40,
   "id": "d763b7b9-77ba-4c3e-b398-b5a87b091aea",
   "metadata": {},
   "outputs": [
    {
     "data": {
      "text/plain": [
       "56385417.47483729"
      ]
     },
     "execution_count": 40,
     "metadata": {},
     "output_type": "execute_result"
    }
   ],
   "source": [
    "mse"
   ]
  },
  {
   "cell_type": "code",
   "execution_count": 42,
   "id": "efed743d-917e-4df0-b3d4-028c65cf629e",
   "metadata": {},
   "outputs": [],
   "source": [
    "import numpy as np\n",
    "rmse = np.sqrt(mse)"
   ]
  },
  {
   "cell_type": "code",
   "execution_count": 44,
   "id": "2e1370ea-c4f0-4264-a3b7-a5e2e87447be",
   "metadata": {},
   "outputs": [
    {
     "data": {
      "text/plain": [
       "7509.02240473667"
      ]
     },
     "execution_count": 44,
     "metadata": {},
     "output_type": "execute_result"
    }
   ],
   "source": [
    "rmse"
   ]
  },
  {
   "cell_type": "code",
   "execution_count": 46,
   "id": "9d834346-e6c9-4bdd-a332-0e57dbd985d7",
   "metadata": {},
   "outputs": [
    {
     "data": {
      "text/plain": [
       "array([18162.57207703, 22725.35659389, 22725.35659389, 18853.44294397,\n",
       "       24167.83422817, 20827.35970667, 24562.61758071, 26399.87856753,\n",
       "       33923.53822844, 24789.11238205])"
      ]
     },
     "execution_count": 46,
     "metadata": {},
     "output_type": "execute_result"
    }
   ],
   "source": [
    "reg.predict(X)[0:10]"
   ]
  },
  {
   "cell_type": "code",
   "execution_count": 48,
   "id": "cfe52e92-22ee-45c2-b0eb-9b15a8720807",
   "metadata": {},
   "outputs": [],
   "source": [
    "k_t = pd.DataFrame({\"gercek_y\": y[0:10],\n",
    "                   \"tahmin_y\": reg.predict(X)[0:10]})"
   ]
  },
  {
   "cell_type": "code",
   "execution_count": 50,
   "id": "d63cdd43-440e-4b7d-9652-305c76239195",
   "metadata": {},
   "outputs": [
    {
     "data": {
      "text/html": [
       "<div>\n",
       "<style scoped>\n",
       "    .dataframe tbody tr th:only-of-type {\n",
       "        vertical-align: middle;\n",
       "    }\n",
       "\n",
       "    .dataframe tbody tr th {\n",
       "        vertical-align: top;\n",
       "    }\n",
       "\n",
       "    .dataframe thead th {\n",
       "        text-align: right;\n",
       "    }\n",
       "</style>\n",
       "<table border=\"1\" class=\"dataframe\">\n",
       "  <thead>\n",
       "    <tr style=\"text-align: right;\">\n",
       "      <th></th>\n",
       "      <th>gercek_y</th>\n",
       "      <th>tahmin_y</th>\n",
       "    </tr>\n",
       "  </thead>\n",
       "  <tbody>\n",
       "    <tr>\n",
       "      <th>0</th>\n",
       "      <td>16900</td>\n",
       "      <td>18162.572077</td>\n",
       "    </tr>\n",
       "    <tr>\n",
       "      <th>1</th>\n",
       "      <td>16900</td>\n",
       "      <td>22725.356594</td>\n",
       "    </tr>\n",
       "    <tr>\n",
       "      <th>2</th>\n",
       "      <td>23104</td>\n",
       "      <td>22725.356594</td>\n",
       "    </tr>\n",
       "    <tr>\n",
       "      <th>3</th>\n",
       "      <td>11881</td>\n",
       "      <td>18853.442944</td>\n",
       "    </tr>\n",
       "    <tr>\n",
       "      <th>4</th>\n",
       "      <td>18496</td>\n",
       "      <td>24167.834228</td>\n",
       "    </tr>\n",
       "    <tr>\n",
       "      <th>5</th>\n",
       "      <td>18496</td>\n",
       "      <td>20827.359707</td>\n",
       "    </tr>\n",
       "    <tr>\n",
       "      <th>6</th>\n",
       "      <td>18496</td>\n",
       "      <td>24562.617581</td>\n",
       "    </tr>\n",
       "    <tr>\n",
       "      <th>7</th>\n",
       "      <td>18496</td>\n",
       "      <td>26399.878568</td>\n",
       "    </tr>\n",
       "    <tr>\n",
       "      <th>8</th>\n",
       "      <td>17161</td>\n",
       "      <td>33923.538228</td>\n",
       "    </tr>\n",
       "    <tr>\n",
       "      <th>9</th>\n",
       "      <td>17161</td>\n",
       "      <td>24789.112382</td>\n",
       "    </tr>\n",
       "  </tbody>\n",
       "</table>\n",
       "</div>"
      ],
      "text/plain": [
       "   gercek_y      tahmin_y\n",
       "0     16900  18162.572077\n",
       "1     16900  22725.356594\n",
       "2     23104  22725.356594\n",
       "3     11881  18853.442944\n",
       "4     18496  24167.834228\n",
       "5     18496  20827.359707\n",
       "6     18496  24562.617581\n",
       "7     18496  26399.878568\n",
       "8     17161  33923.538228\n",
       "9     17161  24789.112382"
      ]
     },
     "execution_count": 50,
     "metadata": {},
     "output_type": "execute_result"
    }
   ],
   "source": [
    "k_t"
   ]
  },
  {
   "cell_type": "code",
   "execution_count": 52,
   "id": "93df661a-ae3f-48b0-9097-bcada4dcebcc",
   "metadata": {},
   "outputs": [],
   "source": [
    "k_t[\"hata\"] = k_t[\"gercek_y\"] - k_t[\"tahmin_y\"]"
   ]
  },
  {
   "cell_type": "code",
   "execution_count": 54,
   "id": "f4c7d872-a252-4137-bb62-4440d79d6749",
   "metadata": {},
   "outputs": [
    {
     "data": {
      "text/html": [
       "<div>\n",
       "<style scoped>\n",
       "    .dataframe tbody tr th:only-of-type {\n",
       "        vertical-align: middle;\n",
       "    }\n",
       "\n",
       "    .dataframe tbody tr th {\n",
       "        vertical-align: top;\n",
       "    }\n",
       "\n",
       "    .dataframe thead th {\n",
       "        text-align: right;\n",
       "    }\n",
       "</style>\n",
       "<table border=\"1\" class=\"dataframe\">\n",
       "  <thead>\n",
       "    <tr style=\"text-align: right;\">\n",
       "      <th></th>\n",
       "      <th>gercek_y</th>\n",
       "      <th>tahmin_y</th>\n",
       "      <th>hata</th>\n",
       "    </tr>\n",
       "  </thead>\n",
       "  <tbody>\n",
       "    <tr>\n",
       "      <th>0</th>\n",
       "      <td>16900</td>\n",
       "      <td>18162.572077</td>\n",
       "      <td>-1262.572077</td>\n",
       "    </tr>\n",
       "    <tr>\n",
       "      <th>1</th>\n",
       "      <td>16900</td>\n",
       "      <td>22725.356594</td>\n",
       "      <td>-5825.356594</td>\n",
       "    </tr>\n",
       "    <tr>\n",
       "      <th>2</th>\n",
       "      <td>23104</td>\n",
       "      <td>22725.356594</td>\n",
       "      <td>378.643406</td>\n",
       "    </tr>\n",
       "    <tr>\n",
       "      <th>3</th>\n",
       "      <td>11881</td>\n",
       "      <td>18853.442944</td>\n",
       "      <td>-6972.442944</td>\n",
       "    </tr>\n",
       "    <tr>\n",
       "      <th>4</th>\n",
       "      <td>18496</td>\n",
       "      <td>24167.834228</td>\n",
       "      <td>-5671.834228</td>\n",
       "    </tr>\n",
       "    <tr>\n",
       "      <th>5</th>\n",
       "      <td>18496</td>\n",
       "      <td>20827.359707</td>\n",
       "      <td>-2331.359707</td>\n",
       "    </tr>\n",
       "    <tr>\n",
       "      <th>6</th>\n",
       "      <td>18496</td>\n",
       "      <td>24562.617581</td>\n",
       "      <td>-6066.617581</td>\n",
       "    </tr>\n",
       "    <tr>\n",
       "      <th>7</th>\n",
       "      <td>18496</td>\n",
       "      <td>26399.878568</td>\n",
       "      <td>-7903.878568</td>\n",
       "    </tr>\n",
       "    <tr>\n",
       "      <th>8</th>\n",
       "      <td>17161</td>\n",
       "      <td>33923.538228</td>\n",
       "      <td>-16762.538228</td>\n",
       "    </tr>\n",
       "    <tr>\n",
       "      <th>9</th>\n",
       "      <td>17161</td>\n",
       "      <td>24789.112382</td>\n",
       "      <td>-7628.112382</td>\n",
       "    </tr>\n",
       "  </tbody>\n",
       "</table>\n",
       "</div>"
      ],
      "text/plain": [
       "   gercek_y      tahmin_y          hata\n",
       "0     16900  18162.572077  -1262.572077\n",
       "1     16900  22725.356594  -5825.356594\n",
       "2     23104  22725.356594    378.643406\n",
       "3     11881  18853.442944  -6972.442944\n",
       "4     18496  24167.834228  -5671.834228\n",
       "5     18496  20827.359707  -2331.359707\n",
       "6     18496  24562.617581  -6066.617581\n",
       "7     18496  26399.878568  -7903.878568\n",
       "8     17161  33923.538228 -16762.538228\n",
       "9     17161  24789.112382  -7628.112382"
      ]
     },
     "execution_count": 54,
     "metadata": {},
     "output_type": "execute_result"
    }
   ],
   "source": [
    "k_t"
   ]
  },
  {
   "cell_type": "code",
   "execution_count": 56,
   "id": "d58ab71a-6728-4052-980d-8ed640925ae8",
   "metadata": {},
   "outputs": [],
   "source": [
    "k = k_t[\"hata_kare\"] = k_t[\"hata\"]**2"
   ]
  },
  {
   "cell_type": "code",
   "execution_count": 58,
   "id": "46c7aa52-23fa-4e53-8eaf-604f81646e35",
   "metadata": {},
   "outputs": [
    {
     "data": {
      "text/plain": [
       "0    1.594088e+06\n",
       "1    3.393478e+07\n",
       "2    1.433708e+05\n",
       "3    4.861496e+07\n",
       "4    3.216970e+07\n",
       "5    5.435238e+06\n",
       "6    3.680385e+07\n",
       "7    6.247130e+07\n",
       "8    2.809827e+08\n",
       "9    5.818810e+07\n",
       "Name: hata, dtype: float64"
      ]
     },
     "execution_count": 58,
     "metadata": {},
     "output_type": "execute_result"
    }
   ],
   "source": [
    "k"
   ]
  },
  {
   "cell_type": "code",
   "execution_count": 60,
   "id": "4296b130-44b2-4702-80f7-4a4b8499f724",
   "metadata": {},
   "outputs": [
    {
     "data": {
      "text/plain": [
       "7485.573273831511"
      ]
     },
     "execution_count": 60,
     "metadata": {},
     "output_type": "execute_result"
    }
   ],
   "source": [
    "np.sqrt(np.mean(k_t[\"hata_kare\"]))"
   ]
  },
  {
   "cell_type": "code",
   "execution_count": 62,
   "id": "5dd0c348-a055-47eb-a8f8-7dfbe923942f",
   "metadata": {},
   "outputs": [
    {
     "data": {
      "text/plain": [
       "0    -1262.572077\n",
       "1    -5825.356594\n",
       "2      378.643406\n",
       "3    -6972.442944\n",
       "4    -5671.834228\n",
       "5    -2331.359707\n",
       "6    -6066.617581\n",
       "7    -7903.878568\n",
       "8   -16762.538228\n",
       "9    -7628.112382\n",
       "dtype: float64"
      ]
     },
     "execution_count": 62,
     "metadata": {},
     "output_type": "execute_result"
    }
   ],
   "source": [
    "model.resid[0:10]"
   ]
  },
  {
   "cell_type": "code",
   "execution_count": 64,
   "id": "4df2d9ba-a466-4b11-9c18-7324f2a732b2",
   "metadata": {},
   "outputs": [
    {
     "data": {
      "text/html": [
       "<table class=\"simpletable\">\n",
       "<tr>\n",
       "      <td></td>         <th>coef</th>     <th>std err</th>      <th>t</th>      <th>P>|t|</th>  <th>[0.025</th>    <th>0.975]</th>  \n",
       "</tr>\n",
       "<tr>\n",
       "  <th>Intercept</th> <td>-2328.2023</td> <td> 1024.049</td> <td>   -2.274</td> <td> 0.024</td> <td>-4347.339</td> <td> -309.066</td>\n",
       "</tr>\n",
       "<tr>\n",
       "  <th>price</th>     <td>    1.5184</td> <td>    0.066</td> <td>   22.960</td> <td> 0.000</td> <td>    1.388</td> <td>    1.649</td>\n",
       "</tr>\n",
       "</table>"
      ],
      "text/latex": [
       "\\begin{center}\n",
       "\\begin{tabular}{lcccccc}\n",
       "\\toprule\n",
       "                   & \\textbf{coef} & \\textbf{std err} & \\textbf{t} & \\textbf{P$> |$t$|$} & \\textbf{[0.025} & \\textbf{0.975]}  \\\\\n",
       "\\midrule\n",
       "\\textbf{Intercept} &   -2328.2023  &     1024.049     &    -2.274  &         0.024        &    -4347.339    &     -309.066     \\\\\n",
       "\\textbf{price}     &       1.5184  &        0.066     &    22.960  &         0.000        &        1.388    &        1.649     \\\\\n",
       "\\bottomrule\n",
       "\\end{tabular}\n",
       "\\end{center}"
      ],
      "text/plain": [
       "<class 'statsmodels.iolib.table.SimpleTable'>"
      ]
     },
     "execution_count": 64,
     "metadata": {},
     "output_type": "execute_result"
    }
   ],
   "source": [
    "model.summary().tables[1]"
   ]
  },
  {
   "cell_type": "code",
   "execution_count": 66,
   "id": "0290e40d-5e2c-4e66-a132-86bc5f73f681",
   "metadata": {},
   "outputs": [
    {
     "data": {
      "image/png": "[encoded data removed]",
      "text/plain": [
       "<Figure size 640x480 with 1 Axes>"
      ]
     },
     "metadata": {},
     "output_type": "display_data"
    }
   ],
   "source": [
    "plt.plot(model.resid);"
   ]
  },
  {
   "cell_type": "code",
   "execution_count": 68,
   "id": "88fb8eb0-0ed8-4be8-a0ab-480e838d007c",
   "metadata": {},
   "outputs": [],
   "source": [
    "from sklearn.model_selection import train_test_split, cross_val_score, cross_val_predict"
   ]
  },
  {
   "cell_type": "code",
   "execution_count": 70,
   "id": "19a8f2bc-523e-4893-b6c0-bdc1d4c6df25",
   "metadata": {},
   "outputs": [],
   "source": [
    "import pandas as pd\n",
    "X = df.drop(\"price\", axis = 1)\n",
    "y = df[\"enginesize_squared\"]\n",
    "\n",
    "X_train, X_test, y_train, y_test = train_test_split(X, y, test_size = 0.20, random_state= 42)"
   ]
  },
  {
   "cell_type": "code",
   "execution_count": 72,
   "id": "19fe7e6d-0ade-4ab8-86cd-557cff7f1fc4",
   "metadata": {},
   "outputs": [
    {
     "data": {
      "text/plain": [
       "(164, 41)"
      ]
     },
     "execution_count": 72,
     "metadata": {},
     "output_type": "execute_result"
    }
   ],
   "source": [
    "X_train.shape"
   ]
  },
  {
   "cell_type": "code",
   "execution_count": 74,
   "id": "2271782e-6c59-4920-a90d-6242ab3f7f9f",
   "metadata": {},
   "outputs": [
    {
     "data": {
      "text/plain": [
       "(41, 41)"
      ]
     },
     "execution_count": 74,
     "metadata": {},
     "output_type": "execute_result"
    }
   ],
   "source": [
    "X_test.shape"
   ]
  },
  {
   "cell_type": "code",
   "execution_count": 76,
   "id": "751c7ad5-fecf-40ac-b73c-81c1f49c8c05",
   "metadata": {},
   "outputs": [
    {
     "data": {
      "text/plain": [
       "(164,)"
      ]
     },
     "execution_count": 76,
     "metadata": {},
     "output_type": "execute_result"
    }
   ],
   "source": [
    "y_train.shape"
   ]
  },
  {
   "cell_type": "code",
   "execution_count": 78,
   "id": "b7c56148-0e18-4ecd-9302-ce4cf70c2579",
   "metadata": {},
   "outputs": [
    {
     "data": {
      "text/plain": [
       "(41,)"
      ]
     },
     "execution_count": 78,
     "metadata": {},
     "output_type": "execute_result"
    }
   ],
   "source": [
    "y_test.shape"
   ]
  },
  {
   "cell_type": "code",
   "execution_count": 80,
   "id": "b57450c4-dec2-4731-9501-c5b8c2a4651b",
   "metadata": {},
   "outputs": [],
   "source": [
    "training = df.copy()"
   ]
  },
  {
   "cell_type": "code",
   "execution_count": 82,
   "id": "7c1e4bcf-64fc-4c1b-83b0-fe6c0f34b349",
   "metadata": {},
   "outputs": [
    {
     "data": {
      "text/plain": [
       "(205, 42)"
      ]
     },
     "execution_count": 82,
     "metadata": {},
     "output_type": "execute_result"
    }
   ],
   "source": [
    "training.shape"
   ]
  },
  {
   "cell_type": "markdown",
   "id": "582cef89-9854-4fe0-93da-c74a007dbceb",
   "metadata": {},
   "source": [
    "# PCR MODEL"
   ]
  },
  {
   "cell_type": "code",
   "execution_count": 151,
   "id": "eac10759-3b62-43f2-879b-24f11d3c1d64",
   "metadata": {},
   "outputs": [],
   "source": [
    "from sklearn.decomposition import PCA\n",
    "from sklearn.preprocessing import scale \n",
    "pca = PCA()"
   ]
  },
  {
   "cell_type": "code",
   "execution_count": 153,
   "id": "a60dd311-d000-4849-baee-f2a1bdc754de",
   "metadata": {},
   "outputs": [],
   "source": [
    "df = pd.read_csv(\"Car_price_cleaned.csv\")\n",
    "df= df.select_dtypes(include = ['float64', 'int64'])\n",
    "X = df.drop(\"price\", axis = 1)\n",
    "y = df[\"enginesize_squared\"]\n"
   ]
  },
  {
   "cell_type": "code",
   "execution_count": 155,
   "id": "97bcc3fd-9996-4225-9a9a-960d58358434",
   "metadata": {},
   "outputs": [
    {
     "name": "stdout",
     "output_type": "stream",
     "text": [
      "X_train (153, 41)\n",
      "y_train (153,)\n",
      "X_test (52, 41)\n",
      "y_test (52,)\n",
      "training (205, 42)\n"
     ]
    }
   ],
   "source": [
    "X_train, X_test, y_train, y_test = train_test_split(X, \n",
    "                                                    y, \n",
    "                                                    test_size=0.25, \n",
    "                                                    random_state=42)\n",
    "\n",
    "print(\"X_train\", X_train.shape)\n",
    "\n",
    "print(\"y_train\",y_train.shape)\n",
    "\n",
    "print(\"X_test\",X_test.shape)\n",
    "\n",
    "print(\"y_test\",y_test.shape)\n",
    "\n",
    "training = df.copy()\n",
    "\n",
    "print(\"training\", training.shape)"
   ]
  },
  {
   "cell_type": "code",
   "execution_count": 157,
   "id": "813f3e05-2fce-4a0a-aeda-59bf16522475",
   "metadata": {
    "scrolled": true
   },
   "outputs": [],
   "source": [
    "X_reduced_train = pca.fit_transform(scale(X_train))"
   ]
  },
  {
   "cell_type": "code",
   "execution_count": 159,
   "id": "ea4689ba-b6fe-45ee-93bb-d7ee11aebce0",
   "metadata": {
    "scrolled": true
   },
   "outputs": [
    {
     "data": {
      "text/plain": [
       "array([[-6.13766972e+00, -4.76430504e+00,  5.31869952e+00,\n",
       "         1.82088637e-01, -4.80842891e-01,  1.27078389e+00,\n",
       "         2.86345700e-02,  1.74875718e+00,  5.79033923e-01,\n",
       "        -1.03887789e-01, -5.56698880e-01,  5.28535835e-01,\n",
       "         5.33157029e-02, -1.08486478e-02,  1.03511358e-01,\n",
       "         2.29142916e+00,  1.50812592e-01, -6.22962523e-01,\n",
       "        -3.79779883e-01, -6.15591448e-01, -2.70113128e-01,\n",
       "         6.83897602e-01,  2.96319538e-01, -3.26375377e-02,\n",
       "         3.15346360e-01, -9.08255216e-02, -1.18954966e-01,\n",
       "         4.83407748e-01, -2.68847836e-02,  9.32016243e-03,\n",
       "         3.75118771e-02,  8.01782693e-02,  5.94168525e-02,\n",
       "         1.71143019e-02, -1.06771657e-02, -3.79533184e-02,\n",
       "         1.08927725e-02,  7.39667214e-04,  1.39960214e-02,\n",
       "        -1.14571442e-02,  6.93877981e-03]])"
      ]
     },
     "execution_count": 159,
     "metadata": {},
     "output_type": "execute_result"
    }
   ],
   "source": [
    "X_reduced_train[0:1,:]"
   ]
  },
  {
   "cell_type": "code",
   "execution_count": 161,
   "id": "912546e2-16e5-4d01-8eb5-e53ac5fcadc5",
   "metadata": {},
   "outputs": [
    {
     "data": {
      "text/plain": [
       "array([35.15, 52.81, 60.57, 67.21, 72.03])"
      ]
     },
     "execution_count": 161,
     "metadata": {},
     "output_type": "execute_result"
    }
   ],
   "source": [
    "np.cumsum(np.round(pca.explained_variance_ratio_, decimals = 4)*100)[0:5]"
   ]
  },
  {
   "cell_type": "code",
   "execution_count": 163,
   "id": "45bd2396-86eb-4332-aedf-5ad2c9c040e7",
   "metadata": {},
   "outputs": [],
   "source": [
    "lm = LinearRegression()\n",
    "\n",
    "pcr_model = lm.fit(X_reduced_train, y_train)"
   ]
  },
  {
   "cell_type": "code",
   "execution_count": 165,
   "id": "14419b32-5eba-4c5c-9e27-5add5c341877",
   "metadata": {},
   "outputs": [
    {
     "data": {
      "text/plain": [
       "17783.69934640523"
      ]
     },
     "execution_count": 165,
     "metadata": {},
     "output_type": "execute_result"
    }
   ],
   "source": [
    "pcr_model.intercept_"
   ]
  },
  {
   "cell_type": "code",
   "execution_count": 167,
   "id": "597e5f13-865f-45ca-a8e2-13f01395697a",
   "metadata": {},
   "outputs": [
    {
     "data": {
      "text/plain": [
       "array([ 2912.7615157 ,  1058.88109548,  2399.0705306 ,  1403.86496323,\n",
       "        2883.17003684,   104.68083339,  1185.63110043,  2837.06854961,\n",
       "         287.17460444,  1108.1368315 , -1042.15790686,   693.47911759,\n",
       "        1003.6553851 ,   250.75704222,  2475.23714055,  -906.48998638,\n",
       "        1572.91354763, -3662.99675968,  1184.26703377, -2971.2344607 ,\n",
       "        -719.00423714, -3299.690206  , -4669.62691763,  7023.4537464 ,\n",
       "        -413.253434  ,  1399.91315505, -2914.85382053, -1150.54096667,\n",
       "         -12.1642105 ,  -815.81412879, -1600.86058498, -1469.31750188,\n",
       "        1546.95905623,  1320.94119492,   480.89533725,  -416.90642583,\n",
       "        -753.61506085,  1593.3403336 ,  4596.06514918,  -307.23105819,\n",
       "         780.81437017])"
      ]
     },
     "execution_count": 167,
     "metadata": {},
     "output_type": "execute_result"
    }
   ],
   "source": [
    "pcr_model.coef_     #PCR MODEL OLMADI."
   ]
  },
  {
   "cell_type": "code",
   "execution_count": 169,
   "id": "d7bfd4a6-7b35-49cd-8036-ef6c1cf6d277",
   "metadata": {},
   "outputs": [],
   "source": [
    "y_pred = pcr_model.predict(X_reduced_train)"
   ]
  },
  {
   "cell_type": "code",
   "execution_count": 171,
   "id": "03ce054b-1552-46bb-93b3-463572255a2e",
   "metadata": {},
   "outputs": [
    {
     "data": {
      "text/plain": [
       "array([10609., 14884.,  9409., 18496., 21316.])"
      ]
     },
     "execution_count": 171,
     "metadata": {},
     "output_type": "execute_result"
    }
   ],
   "source": [
    "y_pred[0:5]"
   ]
  },
  {
   "cell_type": "code",
   "execution_count": 173,
   "id": "726bb68b-47d4-45ad-b443-4558bdfc3c73",
   "metadata": {},
   "outputs": [
    {
     "data": {
      "text/plain": [
       "2.6058491890092467e-11"
      ]
     },
     "execution_count": 173,
     "metadata": {},
     "output_type": "execute_result"
    }
   ],
   "source": [
    "np.sqrt(mean_squared_error(y_train, y_pred))"
   ]
  },
  {
   "cell_type": "code",
   "execution_count": 175,
   "id": "4eab324e-2994-4e6c-8c5e-eeadfb17baf0",
   "metadata": {},
   "outputs": [
    {
     "data": {
      "text/plain": [
       "17831.121951219513"
      ]
     },
     "execution_count": 175,
     "metadata": {},
     "output_type": "execute_result"
    }
   ],
   "source": [
    "df[\"enginesize_squared\"].mean()"
   ]
  },
  {
   "cell_type": "code",
   "execution_count": 177,
   "id": "59603e4b-6853-4c26-b732-35f25016cb1f",
   "metadata": {},
   "outputs": [
    {
     "data": {
      "text/plain": [
       "1.0"
      ]
     },
     "execution_count": 177,
     "metadata": {},
     "output_type": "execute_result"
    }
   ],
   "source": [
    "r2_score(y_train, y_pred)"
   ]
  },
  {
   "cell_type": "code",
   "execution_count": 179,
   "id": "ed10052e-1e91-4815-a807-4027937f6adc",
   "metadata": {},
   "outputs": [],
   "source": [
    "pca2 = PCA()"
   ]
  },
  {
   "cell_type": "code",
   "execution_count": 181,
   "id": "a7d39f8c-cfbb-46cc-abfe-5ed31b7ecdbd",
   "metadata": {},
   "outputs": [],
   "source": [
    "X_reduced_test = pca2.fit_transform(scale(X_test))"
   ]
  },
  {
   "cell_type": "code",
   "execution_count": 183,
   "id": "d990b63a-6726-4e32-b9aa-03d449edbcdf",
   "metadata": {},
   "outputs": [],
   "source": [
    "y_pred = pcr_model.predict(X_reduced_test)"
   ]
  },
  {
   "cell_type": "code",
   "execution_count": 185,
   "id": "8f91ea8c-18a7-4937-9913-0920a79181b3",
   "metadata": {},
   "outputs": [
    {
     "data": {
      "text/plain": [
       "12365.296060652672"
      ]
     },
     "execution_count": 185,
     "metadata": {},
     "output_type": "execute_result"
    }
   ],
   "source": [
    "np.sqrt(mean_squared_error(y_test, y_pred))"
   ]
  },
  {
   "cell_type": "code",
   "execution_count": 187,
   "id": "cfeaeac9-530d-4a33-96bd-43204c9194d6",
   "metadata": {},
   "outputs": [
    {
     "name": "stdout",
     "output_type": "stream",
     "text": [
      "11766.533060638121\n"
     ]
    }
   ],
   "source": [
    "lm = LinearRegression()\n",
    "pcr_model = lm.fit(X_reduced_train[:,0:10], y_train)\n",
    "y_pred = pcr_model.predict(X_reduced_test[:,0:10])\n",
    "print(np.sqrt(mean_squared_error(y_test, y_pred)))"
   ]
  },
  {
   "cell_type": "code",
   "execution_count": 189,
   "id": "a6da877a-8ca1-476f-bd3a-6a2bb30cb2e5",
   "metadata": {},
   "outputs": [],
   "source": [
    "from sklearn import model_selection"
   ]
  },
  {
   "cell_type": "code",
   "execution_count": 191,
   "id": "a8b088a5-2e17-4966-930a-f6eb4bca9bbb",
   "metadata": {},
   "outputs": [],
   "source": [
    "cv_10 = model_selection.KFold(n_splits = 10,\n",
    "                             shuffle = True,\n",
    "                             random_state = 1)"
   ]
  },
  {
   "cell_type": "code",
   "execution_count": 193,
   "id": "3b2e93af-6f15-4e27-940d-48ae28dffedb",
   "metadata": {},
   "outputs": [],
   "source": [
    "lm = LinearRegression()"
   ]
  },
  {
   "cell_type": "code",
   "execution_count": 195,
   "id": "29be2da5-5a81-476b-9f16-10763c34cde5",
   "metadata": {},
   "outputs": [],
   "source": [
    "RMSE = []"
   ]
  },
  {
   "cell_type": "code",
   "execution_count": 197,
   "id": "8b39b6ea-ae22-4236-b950-92abb5f991b0",
   "metadata": {},
   "outputs": [],
   "source": [
    "for i in np.arange(1, X_reduced_train.shape[1] + 1):\n",
    "    \n",
    "    score = np.sqrt(-1*model_selection.cross_val_score(lm, \n",
    "                                                       X_reduced_train[:,:i], \n",
    "                                                       y_train.ravel(), \n",
    "                                                       cv=cv_10, \n",
    "                                                       scoring='neg_mean_squared_error').mean())\n",
    "    RMSE.append(score)"
   ]
  },
  {
   "cell_type": "code",
   "execution_count": 198,
   "id": "f6aef56f-7fad-4e11-af7e-acc95331864c",
   "metadata": {},
   "outputs": [
    {
     "data": {
      "image/png": "[encoded data removed]",
      "text/plain": [
       "<Figure size 640x480 with 1 Axes>"
      ]
     },
     "metadata": {},
     "output_type": "display_data"
    }
   ],
   "source": [
    "plt.plot(RMSE, '-v')\n",
    "plt.xlabel('Bileşen Sayısı')\n",
    "plt.ylabel('RMSE')\n",
    "plt.title('Ücret Tahmin Modeli İçin PCR Model Tuning');"
   ]
  },
  {
   "cell_type": "code",
   "execution_count": 200,
   "id": "aefb8ecc-7ce9-4a98-a4f9-779621acadd0",
   "metadata": {},
   "outputs": [],
   "source": [
    "lm = LinearRegression()"
   ]
  },
  {
   "cell_type": "code",
   "execution_count": 203,
   "id": "1cd3a859-781f-45f0-973a-f9f6bd0170b2",
   "metadata": {},
   "outputs": [],
   "source": [
    "pcr_model = lm.fit(X_reduced_train[:,0:6], y_train)"
   ]
  },
  {
   "cell_type": "code",
   "execution_count": 205,
   "id": "0363641a-6b24-43bb-8526-6f4ade8db6bb",
   "metadata": {},
   "outputs": [],
   "source": [
    "y_pred = pcr_model.predict(X_reduced_train[:,0:6])"
   ]
  },
  {
   "cell_type": "code",
   "execution_count": 207,
   "id": "7f805840-05f2-405c-b7c7-41782e1804c6",
   "metadata": {},
   "outputs": [
    {
     "name": "stdout",
     "output_type": "stream",
     "text": [
      "5565.604347624075\n"
     ]
    }
   ],
   "source": [
    "print(np.sqrt(mean_squared_error(y_train, y_pred)))"
   ]
  },
  {
   "cell_type": "code",
   "execution_count": 209,
   "id": "5d26053e-28a9-4373-9c57-ef814ad55b8e",
   "metadata": {},
   "outputs": [],
   "source": [
    "y_pred = pcr_model.predict(X_reduced_test[:,0:6])"
   ]
  },
  {
   "cell_type": "code",
   "execution_count": 211,
   "id": "34c8465c-fdd2-4bfb-b0f2-a37f8c781906",
   "metadata": {},
   "outputs": [
    {
     "name": "stdout",
     "output_type": "stream",
     "text": [
      "10513.801801918788\n"
     ]
    }
   ],
   "source": [
    "print(np.sqrt(mean_squared_error(y_test, y_pred)))"
   ]
  },
  {
   "cell_type": "markdown",
   "id": "edd8c324-13da-4707-89fd-c22cb095b8cb",
   "metadata": {},
   "source": [
    "# PLS MODEL"
   ]
  },
  {
   "cell_type": "code",
   "execution_count": null,
   "id": "37906461-d03f-411b-acf6-ede3eb9b4b49",
   "metadata": {},
   "outputs": [],
   "source": []
  },
  {
   "cell_type": "code",
   "execution_count": 215,
   "id": "fb95a368-5483-43c0-9683-c8f92b79535d",
   "metadata": {},
   "outputs": [],
   "source": [
    "from sklearn.cross_decomposition import PLSRegression, PLSSVD"
   ]
  },
  {
   "cell_type": "code",
   "execution_count": 217,
   "id": "b08b79db-b103-44ca-9fa3-1bcca4d29c44",
   "metadata": {},
   "outputs": [],
   "source": [
    "pls_model = PLSRegression().fit(X_train, y_train)"
   ]
  },
  {
   "cell_type": "code",
   "execution_count": 219,
   "id": "68f6ba3c-43e7-49fe-9ebd-a8673dfebf60",
   "metadata": {},
   "outputs": [
    {
     "data": {
      "text/plain": [
       "array([[-531.76026401,   83.39990066,   53.73508742, -807.26224006,\n",
       "         602.55242733, -665.70821297,  349.33070528,  488.40347939,\n",
       "          30.07444156,  145.73297952,  573.68932015, -793.23640733,\n",
       "         860.55507075,  521.02260414,   47.23062111, 2164.074111  ,\n",
       "        -109.34125749,  137.39497152,  225.90570701,   71.7134058 ,\n",
       "        1102.93927716, -485.79188871, -214.28718123, -314.08379603,\n",
       "        -679.27270631, 1283.15527028,  672.54412838,   54.20161767,\n",
       "         181.8135786 ,  596.56641167, -788.05574402, 1083.50071458,\n",
       "        2526.05852915,  153.53451172,  272.64969975,   32.688001  ,\n",
       "        1364.19125475, -489.32855078,   -4.76715865,  -86.27208626,\n",
       "        1733.34652561]])"
      ]
     },
     "execution_count": 219,
     "metadata": {},
     "output_type": "execute_result"
    }
   ],
   "source": [
    "pls_model.coef_"
   ]
  },
  {
   "cell_type": "code",
   "execution_count": 221,
   "id": "77a48cf8-2a19-4840-92f5-88b164d8f145",
   "metadata": {},
   "outputs": [
    {
     "name": "stdout",
     "output_type": "stream",
     "text": [
      "X_train (153, 41)\n",
      "y_train (153,)\n",
      "X_test (52, 41)\n",
      "y_test (52,)\n",
      "training (205, 42)\n"
     ]
    }
   ],
   "source": [
    "print(\"X_train\", X_train.shape)\n",
    "\n",
    "print(\"y_train\",y_train.shape)\n",
    "\n",
    "print(\"X_test\",X_test.shape)\n",
    "\n",
    "print(\"y_test\",y_test.shape)\n",
    "\n",
    "training = df.copy()\n",
    "\n",
    "print(\"training\", training.shape)"
   ]
  },
  {
   "cell_type": "code",
   "execution_count": 223,
   "id": "18ff1021-9f0d-4c86-aca3-f4ae78dc34a4",
   "metadata": {},
   "outputs": [
    {
     "data": {
      "text/plain": [
       "array([[-6.13766972e+00, -4.76430504e+00,  5.31869952e+00,\n",
       "         1.82088637e-01, -4.80842891e-01,  1.27078389e+00,\n",
       "         2.86345700e-02,  1.74875718e+00,  5.79033923e-01,\n",
       "        -1.03887789e-01, -5.56698880e-01,  5.28535835e-01,\n",
       "         5.33157029e-02, -1.08486478e-02,  1.03511358e-01,\n",
       "         2.29142916e+00,  1.50812592e-01, -6.22962523e-01,\n",
       "        -3.79779883e-01, -6.15591448e-01, -2.70113128e-01,\n",
       "         6.83897602e-01,  2.96319538e-01, -3.26375377e-02,\n",
       "         3.15346360e-01, -9.08255216e-02, -1.18954966e-01,\n",
       "         4.83407748e-01, -2.68847836e-02,  9.32016243e-03,\n",
       "         3.75118771e-02,  8.01782693e-02,  5.94168525e-02,\n",
       "         1.71143019e-02, -1.06771657e-02, -3.79533184e-02,\n",
       "         1.08927725e-02,  7.39667214e-04,  1.39960214e-02,\n",
       "        -1.14571442e-02,  6.93877981e-03]])"
      ]
     },
     "execution_count": 223,
     "metadata": {},
     "output_type": "execute_result"
    }
   ],
   "source": [
    "X_reduced_train[0:1,:]"
   ]
  },
  {
   "cell_type": "code",
   "execution_count": 225,
   "id": "0f95ffb4-17bc-4d48-bb90-0bfef882cb91",
   "metadata": {},
   "outputs": [
    {
     "name": "stdout",
     "output_type": "stream",
     "text": [
      "11766.533060638121\n"
     ]
    }
   ],
   "source": [
    "lm = LinearRegression()\n",
    "pcr_model = lm.fit(X_reduced_train[:,0:10], y_train)\n",
    "y_pred = pcr_model.predict(X_reduced_test[:,0:10])\n",
    "print(np.sqrt(mean_squared_error(y_test, y_pred)))"
   ]
  },
  {
   "cell_type": "code",
   "execution_count": 227,
   "id": "eeee6542-22ad-44d6-838a-2cc6af00dc11",
   "metadata": {},
   "outputs": [
    {
     "data": {
      "text/html": [
       "<div>\n",
       "<style scoped>\n",
       "    .dataframe tbody tr th:only-of-type {\n",
       "        vertical-align: middle;\n",
       "    }\n",
       "\n",
       "    .dataframe tbody tr th {\n",
       "        vertical-align: top;\n",
       "    }\n",
       "\n",
       "    .dataframe thead th {\n",
       "        text-align: right;\n",
       "    }\n",
       "</style>\n",
       "<table border=\"1\" class=\"dataframe\">\n",
       "  <thead>\n",
       "    <tr style=\"text-align: right;\">\n",
       "      <th></th>\n",
       "      <th>car_ID</th>\n",
       "      <th>symboling</th>\n",
       "      <th>fueltype</th>\n",
       "      <th>aspiration</th>\n",
       "      <th>doornumber</th>\n",
       "      <th>carbody</th>\n",
       "      <th>drivewheel</th>\n",
       "      <th>enginelocation</th>\n",
       "      <th>wheelbase</th>\n",
       "      <th>carlength</th>\n",
       "      <th>...</th>\n",
       "      <th>curbweight_squared</th>\n",
       "      <th>enginesize_squared</th>\n",
       "      <th>boreratio_squared</th>\n",
       "      <th>stroke_squared</th>\n",
       "      <th>compressionratio_squared</th>\n",
       "      <th>horsepower_squared</th>\n",
       "      <th>peakrpm_squared</th>\n",
       "      <th>citympg_squared</th>\n",
       "      <th>highwaympg_squared</th>\n",
       "      <th>log_enginesize</th>\n",
       "    </tr>\n",
       "  </thead>\n",
       "  <tbody>\n",
       "    <tr>\n",
       "      <th>90</th>\n",
       "      <td>91</td>\n",
       "      <td>1</td>\n",
       "      <td>0</td>\n",
       "      <td>0</td>\n",
       "      <td>1</td>\n",
       "      <td>3</td>\n",
       "      <td>1</td>\n",
       "      <td>0</td>\n",
       "      <td>-0.708596</td>\n",
       "      <td>-0.710909</td>\n",
       "      <td>...</td>\n",
       "      <td>4068289</td>\n",
       "      <td>10609</td>\n",
       "      <td>8.9401</td>\n",
       "      <td>12.0409</td>\n",
       "      <td>479.61</td>\n",
       "      <td>3025</td>\n",
       "      <td>23040000</td>\n",
       "      <td>2025</td>\n",
       "      <td>2500</td>\n",
       "      <td>4.644391</td>\n",
       "    </tr>\n",
       "    <tr>\n",
       "      <th>173</th>\n",
       "      <td>174</td>\n",
       "      <td>-1</td>\n",
       "      <td>1</td>\n",
       "      <td>0</td>\n",
       "      <td>0</td>\n",
       "      <td>3</td>\n",
       "      <td>1</td>\n",
       "      <td>0</td>\n",
       "      <td>0.606521</td>\n",
       "      <td>0.126002</td>\n",
       "      <td>...</td>\n",
       "      <td>5410276</td>\n",
       "      <td>14884</td>\n",
       "      <td>10.9561</td>\n",
       "      <td>12.5316</td>\n",
       "      <td>75.69</td>\n",
       "      <td>8464</td>\n",
       "      <td>17640000</td>\n",
       "      <td>841</td>\n",
       "      <td>1156</td>\n",
       "      <td>4.812184</td>\n",
       "    </tr>\n",
       "    <tr>\n",
       "      <th>93</th>\n",
       "      <td>94</td>\n",
       "      <td>1</td>\n",
       "      <td>1</td>\n",
       "      <td>0</td>\n",
       "      <td>0</td>\n",
       "      <td>4</td>\n",
       "      <td>1</td>\n",
       "      <td>0</td>\n",
       "      <td>-0.708596</td>\n",
       "      <td>-0.312767</td>\n",
       "      <td>...</td>\n",
       "      <td>4096576</td>\n",
       "      <td>9409</td>\n",
       "      <td>9.9225</td>\n",
       "      <td>10.8241</td>\n",
       "      <td>88.36</td>\n",
       "      <td>4761</td>\n",
       "      <td>27040000</td>\n",
       "      <td>961</td>\n",
       "      <td>1369</td>\n",
       "      <td>4.584967</td>\n",
       "    </tr>\n",
       "    <tr>\n",
       "      <th>5</th>\n",
       "      <td>6</td>\n",
       "      <td>2</td>\n",
       "      <td>1</td>\n",
       "      <td>0</td>\n",
       "      <td>1</td>\n",
       "      <td>3</td>\n",
       "      <td>1</td>\n",
       "      <td>0</td>\n",
       "      <td>0.173698</td>\n",
       "      <td>0.264133</td>\n",
       "      <td>...</td>\n",
       "      <td>6285049</td>\n",
       "      <td>18496</td>\n",
       "      <td>10.1761</td>\n",
       "      <td>11.5600</td>\n",
       "      <td>72.25</td>\n",
       "      <td>12100</td>\n",
       "      <td>30250000</td>\n",
       "      <td>361</td>\n",
       "      <td>625</td>\n",
       "      <td>4.919981</td>\n",
       "    </tr>\n",
       "    <tr>\n",
       "      <th>167</th>\n",
       "      <td>168</td>\n",
       "      <td>2</td>\n",
       "      <td>1</td>\n",
       "      <td>0</td>\n",
       "      <td>1</td>\n",
       "      <td>1</td>\n",
       "      <td>2</td>\n",
       "      <td>0</td>\n",
       "      <td>-0.059361</td>\n",
       "      <td>0.174754</td>\n",
       "      <td>...</td>\n",
       "      <td>6451600</td>\n",
       "      <td>21316</td>\n",
       "      <td>13.1044</td>\n",
       "      <td>12.2500</td>\n",
       "      <td>86.49</td>\n",
       "      <td>13456</td>\n",
       "      <td>23040000</td>\n",
       "      <td>576</td>\n",
       "      <td>900</td>\n",
       "      <td>4.990433</td>\n",
       "    </tr>\n",
       "  </tbody>\n",
       "</table>\n",
       "<p>5 rows × 41 columns</p>\n",
       "</div>"
      ],
      "text/plain": [
       "     car_ID  symboling  fueltype  aspiration  doornumber  carbody  drivewheel  \\\n",
       "90       91          1         0           0           1        3           1   \n",
       "173     174         -1         1           0           0        3           1   \n",
       "93       94          1         1           0           0        4           1   \n",
       "5         6          2         1           0           1        3           1   \n",
       "167     168          2         1           0           1        1           2   \n",
       "\n",
       "     enginelocation  wheelbase  carlength  ...  curbweight_squared  \\\n",
       "90                0  -0.708596  -0.710909  ...             4068289   \n",
       "173               0   0.606521   0.126002  ...             5410276   \n",
       "93                0  -0.708596  -0.312767  ...             4096576   \n",
       "5                 0   0.173698   0.264133  ...             6285049   \n",
       "167               0  -0.059361   0.174754  ...             6451600   \n",
       "\n",
       "     enginesize_squared  boreratio_squared  stroke_squared  \\\n",
       "90                10609             8.9401         12.0409   \n",
       "173               14884            10.9561         12.5316   \n",
       "93                 9409             9.9225         10.8241   \n",
       "5                 18496            10.1761         11.5600   \n",
       "167               21316            13.1044         12.2500   \n",
       "\n",
       "     compressionratio_squared  horsepower_squared  peakrpm_squared  \\\n",
       "90                     479.61                3025         23040000   \n",
       "173                     75.69                8464         17640000   \n",
       "93                      88.36                4761         27040000   \n",
       "5                       72.25               12100         30250000   \n",
       "167                     86.49               13456         23040000   \n",
       "\n",
       "     citympg_squared  highwaympg_squared  log_enginesize  \n",
       "90              2025                2500        4.644391  \n",
       "173              841                1156        4.812184  \n",
       "93               961                1369        4.584967  \n",
       "5                361                 625        4.919981  \n",
       "167              576                 900        4.990433  \n",
       "\n",
       "[5 rows x 41 columns]"
      ]
     },
     "execution_count": 227,
     "metadata": {},
     "output_type": "execute_result"
    }
   ],
   "source": [
    "X_train.head()"
   ]
  },
  {
   "cell_type": "code",
   "execution_count": 229,
   "id": "7a617f82-d3be-4b2a-8fe2-e44f3436a1e4",
   "metadata": {},
   "outputs": [
    {
     "data": {
      "text/plain": [
       "array([ 6904.69092658, 13928.18553198,  7563.23381057, 22241.3666829 ,\n",
       "       24608.88397426, 14077.53641196, 42549.90699189,  8826.35030232,\n",
       "       11564.16939994, 40097.14952963])"
      ]
     },
     "execution_count": 229,
     "metadata": {},
     "output_type": "execute_result"
    }
   ],
   "source": [
    "pls_model.predict(X_train)[0:10]"
   ]
  },
  {
   "cell_type": "code",
   "execution_count": 231,
   "id": "2a4eb8d6-2e50-42b9-a86b-fae08d0f35fe",
   "metadata": {},
   "outputs": [],
   "source": [
    "y_pred = pls_model.predict(X_train)"
   ]
  },
  {
   "cell_type": "code",
   "execution_count": 233,
   "id": "19db4b0c-930a-465f-94d9-964e6b1771d9",
   "metadata": {},
   "outputs": [
    {
     "data": {
      "text/plain": [
       "4773.937077636045"
      ]
     },
     "execution_count": 233,
     "metadata": {},
     "output_type": "execute_result"
    }
   ],
   "source": [
    "np.sqrt(mean_squared_error(y_train, y_pred))"
   ]
  },
  {
   "cell_type": "code",
   "execution_count": 235,
   "id": "eec2e7c9-b569-4ded-b295-f91bbe8f8574",
   "metadata": {},
   "outputs": [
    {
     "data": {
      "text/plain": [
       "0.8868865935268343"
      ]
     },
     "execution_count": 235,
     "metadata": {},
     "output_type": "execute_result"
    }
   ],
   "source": [
    "r2_score(y_train, y_pred) #gayet yüksek bir doğruluk değeri elde ettik."
   ]
  },
  {
   "cell_type": "code",
   "execution_count": 237,
   "id": "2cc58e69-fee6-490b-807d-d3dfec3e6afb",
   "metadata": {},
   "outputs": [],
   "source": [
    "y_pred = pls_model.predict(X_test)"
   ]
  },
  {
   "cell_type": "code",
   "execution_count": 239,
   "id": "cd8ca381-026d-4614-b4c1-e583933d3cfb",
   "metadata": {},
   "outputs": [
    {
     "data": {
      "text/plain": [
       "5550.960698024748"
      ]
     },
     "execution_count": 239,
     "metadata": {},
     "output_type": "execute_result"
    }
   ],
   "source": [
    "np.sqrt(mean_squared_error(y_test, y_pred)) #hata oranı"
   ]
  },
  {
   "cell_type": "code",
   "execution_count": 241,
   "id": "17e9f776-c830-4581-b51a-d4df7f243491",
   "metadata": {},
   "outputs": [
    {
     "data": {
      "image/png": "[encoded data removed]",
      "text/plain": [
       "<Figure size 640x480 with 1 Axes>"
      ]
     },
     "metadata": {},
     "output_type": "display_data"
    }
   ],
   "source": [
    "#CV\n",
    "cv_10 = model_selection.KFold(n_splits=10, shuffle=True, random_state=1)\n",
    "\n",
    "\n",
    "#Hata hesaplamak için döngü\n",
    "RMSE = []\n",
    "\n",
    "for i in np.arange(1, X_train.shape[1] + 1):\n",
    "    pls = PLSRegression(n_components=i)\n",
    "    score = np.sqrt(-1*cross_val_score(pls, X_train, y_train, cv=cv_10, scoring='neg_mean_squared_error').mean())\n",
    "    RMSE.append(score)\n",
    "\n",
    "#Sonuçların Görselleştirilmesi\n",
    "plt.plot(np.arange(1, X_train.shape[1] + 1), np.array(RMSE), '-v', c = \"r\")\n",
    "plt.xlabel('Bileşen Sayısı')\n",
    "plt.ylabel('RMSE')\n",
    "plt.title('Salary');"
   ]
  },
  {
   "cell_type": "code",
   "execution_count": 242,
   "id": "aa1cc46f-9f53-4ccd-95d1-30393dd4f735",
   "metadata": {},
   "outputs": [],
   "source": [
    "pls_model = PLSRegression(n_components = 2).fit(X_train, y_train)"
   ]
  },
  {
   "cell_type": "code",
   "execution_count": 243,
   "id": "4a7213ba-37d3-4f50-bc00-ade9b289c251",
   "metadata": {},
   "outputs": [],
   "source": [
    "y_pred = pls_model.predict(X_test)"
   ]
  },
  {
   "cell_type": "code",
   "execution_count": 245,
   "id": "b774844e-44e0-4f73-8116-0f09483c71d5",
   "metadata": {},
   "outputs": [
    {
     "data": {
      "text/plain": [
       "5550.960698024748"
      ]
     },
     "execution_count": 245,
     "metadata": {},
     "output_type": "execute_result"
    }
   ],
   "source": [
    "np.sqrt(mean_squared_error(y_test, y_pred))  #hata değerlerini bu kadar yükskek olmasını nedeni metre küp hesabıdan dolayı."
   ]
  },
  {
   "cell_type": "code",
   "execution_count": 251,
   "id": "037a939f-fa5e-4a05-b787-fd74b3dc4a99",
   "metadata": {},
   "outputs": [
    {
     "data": {
      "text/plain": [
       "205"
      ]
     },
     "execution_count": 251,
     "metadata": {},
     "output_type": "execute_result"
    }
   ],
   "source": [
    "len(df)"
   ]
  },
  {
   "cell_type": "markdown",
   "id": "002759ff-701b-4411-b15c-32de75040881",
   "metadata": {},
   "source": [
    "# ELASTIC NET"
   ]
  },
  {
   "cell_type": "code",
   "execution_count": 306,
   "id": "f8c1971b-add4-4b42-9d90-2e985c175c5f",
   "metadata": {},
   "outputs": [],
   "source": [
    "df = pd.read_csv(\"Car_price_cleaned.csv\")\n",
    "df= df.select_dtypes(include = ['float64', 'int64'])\n",
    "X = df.drop(\"price\", axis = 1)\n",
    "y = df[\"enginesize_squared\"]\n",
    "\n",
    "X_train, X_test, y_train, y_test = train_test_split(X, \n",
    "                                                    y, \n",
    "                                                    test_size=0.25, \n",
    "                                                    random_state=42)\n"
   ]
  },
  {
   "cell_type": "code",
   "execution_count": 308,
   "id": "1144cee3-f592-47f6-930d-88962fc8a343",
   "metadata": {},
   "outputs": [],
   "source": [
    "from sklearn.linear_model import ElasticNet"
   ]
  },
  {
   "cell_type": "code",
   "execution_count": 310,
   "id": "3ccc9036-257a-43d4-a2b6-82b4aaa2feee",
   "metadata": {},
   "outputs": [],
   "source": [
    "enet_model = ElasticNet().fit(X_train, y_train)"
   ]
  },
  {
   "cell_type": "code",
   "execution_count": 312,
   "id": "74c90bf9-b02e-4fdf-b3c5-f7c5009cd2fa",
   "metadata": {},
   "outputs": [
    {
     "data": {
      "text/plain": [
       "array([ 9.19958218e-05, -0.00000000e+00, -0.00000000e+00,  0.00000000e+00,\n",
       "       -0.00000000e+00,  0.00000000e+00, -0.00000000e+00, -0.00000000e+00,\n",
       "        0.00000000e+00,  0.00000000e+00,  0.00000000e+00,  0.00000000e+00,\n",
       "       -0.00000000e+00, -0.00000000e+00, -0.00000000e+00, -0.00000000e+00,\n",
       "       -0.00000000e+00,  0.00000000e+00, -0.00000000e+00,  0.00000000e+00,\n",
       "        0.00000000e+00,  0.00000000e+00,  0.00000000e+00, -0.00000000e+00,\n",
       "        0.00000000e+00, -0.00000000e+00,  0.00000000e+00,  1.52787176e-04,\n",
       "       -6.12587786e-05, -1.77428580e-04,  2.52801854e-05,  2.25801845e-08,\n",
       "        1.00000578e+00,  0.00000000e+00, -0.00000000e+00,  6.87569806e-04,\n",
       "       -8.26579528e-06,  3.23367611e-09, -2.09479428e-03,  1.39712777e-03,\n",
       "       -0.00000000e+00])"
      ]
     },
     "execution_count": 312,
     "metadata": {},
     "output_type": "execute_result"
    }
   ],
   "source": [
    "enet_model.coef_"
   ]
  },
  {
   "cell_type": "code",
   "execution_count": 314,
   "id": "39dd00de-97fb-4064-8983-1ae0f1cf1b89",
   "metadata": {},
   "outputs": [
    {
     "data": {
      "text/plain": [
       "0.7815384347450163"
      ]
     },
     "execution_count": 314,
     "metadata": {},
     "output_type": "execute_result"
    }
   ],
   "source": [
    "enet_model.intercept_"
   ]
  },
  {
   "cell_type": "code",
   "execution_count": 316,
   "id": "3cec63e9-fd85-4ba6-a673-62b127a66ed1",
   "metadata": {},
   "outputs": [
    {
     "data": {
      "text/plain": [
       "array([43681.00835204, 17160.96966274, 14400.06404222, 14640.92061224,\n",
       "       33489.23883215,  9408.98015235, 12100.47185239,  9604.05768134,\n",
       "       11664.00783245,  9409.43036215, 18495.99559142,  9603.86919534,\n",
       "       19600.43480604, 14883.95999807, 94864.20646928,  8464.25285557,\n",
       "        3720.67979468, 24335.95164117, 14884.09871361, 11664.01254581,\n",
       "       14883.93404829, 32761.02936751,  9409.06028395,  8463.25979495,\n",
       "        8100.21298726, 43680.88882429, 21316.02141683, 19880.91932399,\n",
       "        9408.88707722, 19880.8991154 , 33489.19378256,  8100.21976166,\n",
       "        8463.97088949, 29929.1116739 ,  9604.199399  , 33489.15584833,\n",
       "       11663.92740968,  4900.10379152,  8099.81666009, 24335.96391881,\n",
       "       11663.74953127, 17956.61983739, 14400.08656429,  8463.96578239,\n",
       "        9408.98444876, 12100.09275611,  8100.21093006, 11664.12979221,\n",
       "       23104.22244325, 24335.94396165,  8099.81127847, 29240.87671126])"
      ]
     },
     "execution_count": 316,
     "metadata": {},
     "output_type": "execute_result"
    }
   ],
   "source": [
    "enet_model.predict(X_test)"
   ]
  },
  {
   "cell_type": "code",
   "execution_count": 320,
   "id": "7f779bb6-afe9-4e47-90d7-78df555b48aa",
   "metadata": {},
   "outputs": [
    {
     "data": {
      "text/plain": [
       "5550.960698024748"
      ]
     },
     "execution_count": 320,
     "metadata": {},
     "output_type": "execute_result"
    }
   ],
   "source": [
    "np.sqrt(mean_squared_error(y_test, y_pred))"
   ]
  },
  {
   "cell_type": "code",
   "execution_count": 322,
   "id": "a26bbd60-f5b4-4024-81b5-978a59b7cbb4",
   "metadata": {},
   "outputs": [
    {
     "data": {
      "text/plain": [
       "0.8509207902576"
      ]
     },
     "execution_count": 322,
     "metadata": {},
     "output_type": "execute_result"
    }
   ],
   "source": [
    "r2_score(y_test, y_pred)"
   ]
  },
  {
   "cell_type": "code",
   "execution_count": 334,
   "id": "60a43739-65e3-42e9-86d0-2a345613178b",
   "metadata": {},
   "outputs": [],
   "source": [
    "from sklearn.linear_model import ElasticNetCV"
   ]
  },
  {
   "cell_type": "code",
   "execution_count": 336,
   "id": "685e63bd-0c2a-4392-b0e1-31dc33310718",
   "metadata": {},
   "outputs": [],
   "source": [
    "enet_cv_model = ElasticNetCV(cv = 10, random_state = 0).fit(X_train, y_train)"
   ]
  },
  {
   "cell_type": "code",
   "execution_count": 338,
   "id": "891b7416-ef88-4d09-96d6-d98dbee88681",
   "metadata": {},
   "outputs": [
    {
     "data": {
      "text/plain": [
       "64825487.34601598"
      ]
     },
     "execution_count": 338,
     "metadata": {},
     "output_type": "execute_result"
    }
   ],
   "source": [
    "enet_cv_model.alpha_"
   ]
  },
  {
   "cell_type": "code",
   "execution_count": 340,
   "id": "1e382e37-6f49-4cb2-94b8-3558590cdf36",
   "metadata": {},
   "outputs": [
    {
     "data": {
      "text/html": [
       "<style>#sk-container-id-1 {\n",
       "  /* Definition of color scheme common for light and dark mode */\n",
       "  --sklearn-color-text: black;\n",
       "  --sklearn-color-line: gray;\n",
       "  /* Definition of color scheme for unfitted estimators */\n",
       "  --sklearn-color-unfitted-level-0: #fff5e6;\n",
       "  --sklearn-color-unfitted-level-1: #f6e4d2;\n",
       "  --sklearn-color-unfitted-level-2: #ffe0b3;\n",
       "  --sklearn-color-unfitted-level-3: chocolate;\n",
       "  /* Definition of color scheme for fitted estimators */\n",
       "  --sklearn-color-fitted-level-0: #f0f8ff;\n",
       "  --sklearn-color-fitted-level-1: #d4ebff;\n",
       "  --sklearn-color-fitted-level-2: #b3dbfd;\n",
       "  --sklearn-color-fitted-level-3: cornflowerblue;\n",
       "\n",
       "  /* Specific color for light theme */\n",
       "  --sklearn-color-text-on-default-background: var(--sg-text-color, var(--theme-code-foreground, var(--jp-content-font-color1, black)));\n",
       "  --sklearn-color-background: var(--sg-background-color, var(--theme-background, var(--jp-layout-color0, white)));\n",
       "  --sklearn-color-border-box: var(--sg-text-color, var(--theme-code-foreground, var(--jp-content-font-color1, black)));\n",
       "  --sklearn-color-icon: #696969;\n",
       "\n",
       "  @media (prefers-color-scheme: dark) {\n",
       "    /* Redefinition of color scheme for dark theme */\n",
       "    --sklearn-color-text-on-default-background: var(--sg-text-color, var(--theme-code-foreground, var(--jp-content-font-color1, white)));\n",
       "    --sklearn-color-background: var(--sg-background-color, var(--theme-background, var(--jp-layout-color0, #111)));\n",
       "    --sklearn-color-border-box: var(--sg-text-color, var(--theme-code-foreground, var(--jp-content-font-color1, white)));\n",
       "    --sklearn-color-icon: #878787;\n",
       "  }\n",
       "}\n",
       "\n",
       "#sk-container-id-1 {\n",
       "  color: var(--sklearn-color-text);\n",
       "}\n",
       "\n",
       "#sk-container-id-1 pre {\n",
       "  padding: 0;\n",
       "}\n",
       "\n",
       "#sk-container-id-1 input.sk-hidden--visually {\n",
       "  border: 0;\n",
       "  clip: rect(1px 1px 1px 1px);\n",
       "  clip: rect(1px, 1px, 1px, 1px);\n",
       "  height: 1px;\n",
       "  margin: -1px;\n",
       "  overflow: hidden;\n",
       "  padding: 0;\n",
       "  position: absolute;\n",
       "  width: 1px;\n",
       "}\n",
       "\n",
       "#sk-container-id-1 div.sk-dashed-wrapped {\n",
       "  border: 1px dashed var(--sklearn-color-line);\n",
       "  margin: 0 0.4em 0.5em 0.4em;\n",
       "  box-sizing: border-box;\n",
       "  padding-bottom: 0.4em;\n",
       "  background-color: var(--sklearn-color-background);\n",
       "}\n",
       "\n",
       "#sk-container-id-1 div.sk-container {\n",
       "  /* jupyter's `normalize.less` sets `[hidden] { display: none; }`\n",
       "     but bootstrap.min.css set `[hidden] { display: none !important; }`\n",
       "     so we also need the `!important` here to be able to override the\n",
       "     default hidden behavior on the sphinx rendered scikit-learn.org.\n",
       "     See: https://github.com/scikit-learn/scikit-learn/issues/21755 */\n",
       "  display: inline-block !important;\n",
       "  position: relative;\n",
       "}\n",
       "\n",
       "#sk-container-id-1 div.sk-text-repr-fallback {\n",
       "  display: none;\n",
       "}\n",
       "\n",
       "div.sk-parallel-item,\n",
       "div.sk-serial,\n",
       "div.sk-item {\n",
       "  /* draw centered vertical line to link estimators */\n",
       "  background-image: linear-gradient(var(--sklearn-color-text-on-default-background), var(--sklearn-color-text-on-default-background));\n",
       "  background-size: 2px 100%;\n",
       "  background-repeat: no-repeat;\n",
       "  background-position: center center;\n",
       "}\n",
       "\n",
       "/* Parallel-specific style estimator block */\n",
       "\n",
       "#sk-container-id-1 div.sk-parallel-item::after {\n",
       "  content: \"\";\n",
       "  width: 100%;\n",
       "  border-bottom: 2px solid var(--sklearn-color-text-on-default-background);\n",
       "  flex-grow: 1;\n",
       "}\n",
       "\n",
       "#sk-container-id-1 div.sk-parallel {\n",
       "  display: flex;\n",
       "  align-items: stretch;\n",
       "  justify-content: center;\n",
       "  background-color: var(--sklearn-color-background);\n",
       "  position: relative;\n",
       "}\n",
       "\n",
       "#sk-container-id-1 div.sk-parallel-item {\n",
       "  display: flex;\n",
       "  flex-direction: column;\n",
       "}\n",
       "\n",
       "#sk-container-id-1 div.sk-parallel-item:first-child::after {\n",
       "  align-self: flex-end;\n",
       "  width: 50%;\n",
       "}\n",
       "\n",
       "#sk-container-id-1 div.sk-parallel-item:last-child::after {\n",
       "  align-self: flex-start;\n",
       "  width: 50%;\n",
       "}\n",
       "\n",
       "#sk-container-id-1 div.sk-parallel-item:only-child::after {\n",
       "  width: 0;\n",
       "}\n",
       "\n",
       "/* Serial-specific style estimator block */\n",
       "\n",
       "#sk-container-id-1 div.sk-serial {\n",
       "  display: flex;\n",
       "  flex-direction: column;\n",
       "  align-items: center;\n",
       "  background-color: var(--sklearn-color-background);\n",
       "  padding-right: 1em;\n",
       "  padding-left: 1em;\n",
       "}\n",
       "\n",
       "\n",
       "/* Toggleable style: style used for estimator/Pipeline/ColumnTransformer box that is\n",
       "clickable and can be expanded/collapsed.\n",
       "- Pipeline and ColumnTransformer use this feature and define the default style\n",
       "- Estimators will overwrite some part of the style using the `sk-estimator` class\n",
       "*/\n",
       "\n",
       "/* Pipeline and ColumnTransformer style (default) */\n",
       "\n",
       "#sk-container-id-1 div.sk-toggleable {\n",
       "  /* Default theme specific background. It is overwritten whether we have a\n",
       "  specific estimator or a Pipeline/ColumnTransformer */\n",
       "  background-color: var(--sklearn-color-background);\n",
       "}\n",
       "\n",
       "/* Toggleable label */\n",
       "#sk-container-id-1 label.sk-toggleable__label {\n",
       "  cursor: pointer;\n",
       "  display: block;\n",
       "  width: 100%;\n",
       "  margin-bottom: 0;\n",
       "  padding: 0.5em;\n",
       "  box-sizing: border-box;\n",
       "  text-align: center;\n",
       "}\n",
       "\n",
       "#sk-container-id-1 label.sk-toggleable__label-arrow:before {\n",
       "  /* Arrow on the left of the label */\n",
       "  content: \"▸\";\n",
       "  float: left;\n",
       "  margin-right: 0.25em;\n",
       "  color: var(--sklearn-color-icon);\n",
       "}\n",
       "\n",
       "#sk-container-id-1 label.sk-toggleable__label-arrow:hover:before {\n",
       "  color: var(--sklearn-color-text);\n",
       "}\n",
       "\n",
       "/* Toggleable content - dropdown */\n",
       "\n",
       "#sk-container-id-1 div.sk-toggleable__content {\n",
       "  max-height: 0;\n",
       "  max-width: 0;\n",
       "  overflow: hidden;\n",
       "  text-align: left;\n",
       "  /* unfitted */\n",
       "  background-color: var(--sklearn-color-unfitted-level-0);\n",
       "}\n",
       "\n",
       "#sk-container-id-1 div.sk-toggleable__content.fitted {\n",
       "  /* fitted */\n",
       "  background-color: var(--sklearn-color-fitted-level-0);\n",
       "}\n",
       "\n",
       "#sk-container-id-1 div.sk-toggleable__content pre {\n",
       "  margin: 0.2em;\n",
       "  border-radius: 0.25em;\n",
       "  color: var(--sklearn-color-text);\n",
       "  /* unfitted */\n",
       "  background-color: var(--sklearn-color-unfitted-level-0);\n",
       "}\n",
       "\n",
       "#sk-container-id-1 div.sk-toggleable__content.fitted pre {\n",
       "  /* unfitted */\n",
       "  background-color: var(--sklearn-color-fitted-level-0);\n",
       "}\n",
       "\n",
       "#sk-container-id-1 input.sk-toggleable__control:checked~div.sk-toggleable__content {\n",
       "  /* Expand drop-down */\n",
       "  max-height: 200px;\n",
       "  max-width: 100%;\n",
       "  overflow: auto;\n",
       "}\n",
       "\n",
       "#sk-container-id-1 input.sk-toggleable__control:checked~label.sk-toggleable__label-arrow:before {\n",
       "  content: \"▾\";\n",
       "}\n",
       "\n",
       "/* Pipeline/ColumnTransformer-specific style */\n",
       "\n",
       "#sk-container-id-1 div.sk-label input.sk-toggleable__control:checked~label.sk-toggleable__label {\n",
       "  color: var(--sklearn-color-text);\n",
       "  background-color: var(--sklearn-color-unfitted-level-2);\n",
       "}\n",
       "\n",
       "#sk-container-id-1 div.sk-label.fitted input.sk-toggleable__control:checked~label.sk-toggleable__label {\n",
       "  background-color: var(--sklearn-color-fitted-level-2);\n",
       "}\n",
       "\n",
       "/* Estimator-specific style */\n",
       "\n",
       "/* Colorize estimator box */\n",
       "#sk-container-id-1 div.sk-estimator input.sk-toggleable__control:checked~label.sk-toggleable__label {\n",
       "  /* unfitted */\n",
       "  background-color: var(--sklearn-color-unfitted-level-2);\n",
       "}\n",
       "\n",
       "#sk-container-id-1 div.sk-estimator.fitted input.sk-toggleable__control:checked~label.sk-toggleable__label {\n",
       "  /* fitted */\n",
       "  background-color: var(--sklearn-color-fitted-level-2);\n",
       "}\n",
       "\n",
       "#sk-container-id-1 div.sk-label label.sk-toggleable__label,\n",
       "#sk-container-id-1 div.sk-label label {\n",
       "  /* The background is the default theme color */\n",
       "  color: var(--sklearn-color-text-on-default-background);\n",
       "}\n",
       "\n",
       "/* On hover, darken the color of the background */\n",
       "#sk-container-id-1 div.sk-label:hover label.sk-toggleable__label {\n",
       "  color: var(--sklearn-color-text);\n",
       "  background-color: var(--sklearn-color-unfitted-level-2);\n",
       "}\n",
       "\n",
       "/* Label box, darken color on hover, fitted */\n",
       "#sk-container-id-1 div.sk-label.fitted:hover label.sk-toggleable__label.fitted {\n",
       "  color: var(--sklearn-color-text);\n",
       "  background-color: var(--sklearn-color-fitted-level-2);\n",
       "}\n",
       "\n",
       "/* Estimator label */\n",
       "\n",
       "#sk-container-id-1 div.sk-label label {\n",
       "  font-family: monospace;\n",
       "  font-weight: bold;\n",
       "  display: inline-block;\n",
       "  line-height: 1.2em;\n",
       "}\n",
       "\n",
       "#sk-container-id-1 div.sk-label-container {\n",
       "  text-align: center;\n",
       "}\n",
       "\n",
       "/* Estimator-specific */\n",
       "#sk-container-id-1 div.sk-estimator {\n",
       "  font-family: monospace;\n",
       "  border: 1px dotted var(--sklearn-color-border-box);\n",
       "  border-radius: 0.25em;\n",
       "  box-sizing: border-box;\n",
       "  margin-bottom: 0.5em;\n",
       "  /* unfitted */\n",
       "  background-color: var(--sklearn-color-unfitted-level-0);\n",
       "}\n",
       "\n",
       "#sk-container-id-1 div.sk-estimator.fitted {\n",
       "  /* fitted */\n",
       "  background-color: var(--sklearn-color-fitted-level-0);\n",
       "}\n",
       "\n",
       "/* on hover */\n",
       "#sk-container-id-1 div.sk-estimator:hover {\n",
       "  /* unfitted */\n",
       "  background-color: var(--sklearn-color-unfitted-level-2);\n",
       "}\n",
       "\n",
       "#sk-container-id-1 div.sk-estimator.fitted:hover {\n",
       "  /* fitted */\n",
       "  background-color: var(--sklearn-color-fitted-level-2);\n",
       "}\n",
       "\n",
       "/* Specification for estimator info (e.g. \"i\" and \"?\") */\n",
       "\n",
       "/* Common style for \"i\" and \"?\" */\n",
       "\n",
       ".sk-estimator-doc-link,\n",
       "a:link.sk-estimator-doc-link,\n",
       "a:visited.sk-estimator-doc-link {\n",
       "  float: right;\n",
       "  font-size: smaller;\n",
       "  line-height: 1em;\n",
       "  font-family: monospace;\n",
       "  background-color: var(--sklearn-color-background);\n",
       "  border-radius: 1em;\n",
       "  height: 1em;\n",
       "  width: 1em;\n",
       "  text-decoration: none !important;\n",
       "  margin-left: 1ex;\n",
       "  /* unfitted */\n",
       "  border: var(--sklearn-color-unfitted-level-1) 1pt solid;\n",
       "  color: var(--sklearn-color-unfitted-level-1);\n",
       "}\n",
       "\n",
       ".sk-estimator-doc-link.fitted,\n",
       "a:link.sk-estimator-doc-link.fitted,\n",
       "a:visited.sk-estimator-doc-link.fitted {\n",
       "  /* fitted */\n",
       "  border: var(--sklearn-color-fitted-level-1) 1pt solid;\n",
       "  color: var(--sklearn-color-fitted-level-1);\n",
       "}\n",
       "\n",
       "/* On hover */\n",
       "div.sk-estimator:hover .sk-estimator-doc-link:hover,\n",
       ".sk-estimator-doc-link:hover,\n",
       "div.sk-label-container:hover .sk-estimator-doc-link:hover,\n",
       ".sk-estimator-doc-link:hover {\n",
       "  /* unfitted */\n",
       "  background-color: var(--sklearn-color-unfitted-level-3);\n",
       "  color: var(--sklearn-color-background);\n",
       "  text-decoration: none;\n",
       "}\n",
       "\n",
       "div.sk-estimator.fitted:hover .sk-estimator-doc-link.fitted:hover,\n",
       ".sk-estimator-doc-link.fitted:hover,\n",
       "div.sk-label-container:hover .sk-estimator-doc-link.fitted:hover,\n",
       ".sk-estimator-doc-link.fitted:hover {\n",
       "  /* fitted */\n",
       "  background-color: var(--sklearn-color-fitted-level-3);\n",
       "  color: var(--sklearn-color-background);\n",
       "  text-decoration: none;\n",
       "}\n",
       "\n",
       "/* Span, style for the box shown on hovering the info icon */\n",
       ".sk-estimator-doc-link span {\n",
       "  display: none;\n",
       "  z-index: 9999;\n",
       "  position: relative;\n",
       "  font-weight: normal;\n",
       "  right: .2ex;\n",
       "  padding: .5ex;\n",
       "  margin: .5ex;\n",
       "  width: min-content;\n",
       "  min-width: 20ex;\n",
       "  max-width: 50ex;\n",
       "  color: var(--sklearn-color-text);\n",
       "  box-shadow: 2pt 2pt 4pt #999;\n",
       "  /* unfitted */\n",
       "  background: var(--sklearn-color-unfitted-level-0);\n",
       "  border: .5pt solid var(--sklearn-color-unfitted-level-3);\n",
       "}\n",
       "\n",
       ".sk-estimator-doc-link.fitted span {\n",
       "  /* fitted */\n",
       "  background: var(--sklearn-color-fitted-level-0);\n",
       "  border: var(--sklearn-color-fitted-level-3);\n",
       "}\n",
       "\n",
       ".sk-estimator-doc-link:hover span {\n",
       "  display: block;\n",
       "}\n",
       "\n",
       "/* \"?\"-specific style due to the `<a>` HTML tag */\n",
       "\n",
       "#sk-container-id-1 a.estimator_doc_link {\n",
       "  float: right;\n",
       "  font-size: 1rem;\n",
       "  line-height: 1em;\n",
       "  font-family: monospace;\n",
       "  background-color: var(--sklearn-color-background);\n",
       "  border-radius: 1rem;\n",
       "  height: 1rem;\n",
       "  width: 1rem;\n",
       "  text-decoration: none;\n",
       "  /* unfitted */\n",
       "  color: var(--sklearn-color-unfitted-level-1);\n",
       "  border: var(--sklearn-color-unfitted-level-1) 1pt solid;\n",
       "}\n",
       "\n",
       "#sk-container-id-1 a.estimator_doc_link.fitted {\n",
       "  /* fitted */\n",
       "  border: var(--sklearn-color-fitted-level-1) 1pt solid;\n",
       "  color: var(--sklearn-color-fitted-level-1);\n",
       "}\n",
       "\n",
       "/* On hover */\n",
       "#sk-container-id-1 a.estimator_doc_link:hover {\n",
       "  /* unfitted */\n",
       "  background-color: var(--sklearn-color-unfitted-level-3);\n",
       "  color: var(--sklearn-color-background);\n",
       "  text-decoration: none;\n",
       "}\n",
       "\n",
       "#sk-container-id-1 a.estimator_doc_link.fitted:hover {\n",
       "  /* fitted */\n",
       "  background-color: var(--sklearn-color-fitted-level-3);\n",
       "}\n",
       "</style><div id=\"sk-container-id-1\" class=\"sk-top-container\"><div class=\"sk-text-repr-fallback\"><pre>ElasticNetCV(cv=10, random_state=0)</pre><b>In a Jupyter environment, please rerun this cell to show the HTML representation or trust the notebook. <br />On GitHub, the HTML representation is unable to render, please try loading this page with nbviewer.org.</b></div><div class=\"sk-container\" hidden><div class=\"sk-item\"><div class=\"sk-estimator fitted sk-toggleable\"><input class=\"sk-toggleable__control sk-hidden--visually\" id=\"sk-estimator-id-1\" type=\"checkbox\" checked><label for=\"sk-estimator-id-1\" class=\"sk-toggleable__label fitted sk-toggleable__label-arrow fitted\">&nbsp;&nbsp;ElasticNetCV<a class=\"sk-estimator-doc-link fitted\" rel=\"noreferrer\" target=\"_blank\" href=\"https://scikit-learn.org/1.4/modules/generated/sklearn.linear_model.ElasticNetCV.html\">?<span>Documentation for ElasticNetCV</span></a><span class=\"sk-estimator-doc-link fitted\">i<span>Fitted</span></span></label><div class=\"sk-toggleable__content fitted\"><pre>ElasticNetCV(cv=10, random_state=0)</pre></div> </div></div></div></div>"
      ],
      "text/plain": [
       "ElasticNetCV(cv=10, random_state=0)"
      ]
     },
     "execution_count": 340,
     "metadata": {},
     "output_type": "execute_result"
    }
   ],
   "source": [
    "enet_cv_model"
   ]
  },
  {
   "cell_type": "code",
   "execution_count": 345,
   "id": "30b24722-0ee7-4804-bbc3-aca725cb498e",
   "metadata": {},
   "outputs": [],
   "source": [
    "enet_tuned = ElasticNet(alpha = enet_cv_model.alpha_).fit(X_train,y_train)"
   ]
  },
  {
   "cell_type": "code",
   "execution_count": 347,
   "id": "53c3450a-cdc8-4305-9f5b-7d7d2ecc2416",
   "metadata": {},
   "outputs": [],
   "source": [
    "y_pred = enet_tuned.predict(X_test)"
   ]
  },
  {
   "cell_type": "code",
   "execution_count": 349,
   "id": "4a0e273f-5118-4826-bd59-807cefd97efc",
   "metadata": {},
   "outputs": [
    {
     "data": {
      "text/plain": [
       "4888.363729797738"
      ]
     },
     "execution_count": 349,
     "metadata": {},
     "output_type": "execute_result"
    }
   ],
   "source": [
    "np.sqrt(mean_squared_error(y_test, y_pred))"
   ]
  },
  {
   "cell_type": "code",
   "execution_count": null,
   "id": "7cab84b7-562f-482e-9363-3f1a35527ab1",
   "metadata": {},
   "outputs": [],
   "source": []
  },
  {
   "cell_type": "code",
   "execution_count": null,
   "id": "de612123-0a31-4918-aa8a-e53613b8673b",
   "metadata": {},
   "outputs": [],
   "source": []
  },
  {
   "cell_type": "code",
   "execution_count": null,
   "id": "903c6f03-4e14-4eec-89f6-a395f68745cb",
   "metadata": {},
   "outputs": [],
   "source": []
  },
  {
   "cell_type": "code",
   "execution_count": null,
   "id": "b017ef35-2e05-42ad-975e-d4f89bd833d2",
   "metadata": {},
   "outputs": [],
   "source": []
  },
  {
   "cell_type": "code",
   "execution_count": null,
   "id": "be4822cc-85c0-4f32-b8f7-ea96414810d0",
   "metadata": {},
   "outputs": [],
   "source": []
  },
  {
   "cell_type": "code",
   "execution_count": null,
   "id": "002fccdc-0e86-4cec-b8de-0553abc45ba7",
   "metadata": {},
   "outputs": [],
   "source": []
  },
  {
   "cell_type": "code",
   "execution_count": null,
   "id": "da3cd15d-67f0-4683-9393-083dd12bfb11",
   "metadata": {},
   "outputs": [],
   "source": []
  },
  {
   "cell_type": "code",
   "execution_count": null,
   "id": "74c896ec-fd1b-41e9-9dfb-5c2ed91ca09e",
   "metadata": {},
   "outputs": [],
   "source": []
  }
 ],
 "metadata": {
  "kernelspec": {
   "display_name": "Python 3 (ipykernel)",
   "language": "python",
   "name": "python3"
  },
  "language_info": {
   "codemirror_mode": {
    "name": "ipython",
    "version": 3
   },
   "file_extension": ".py",
   "mimetype": "text/x-python",
   "name": "python",
   "nbconvert_exporter": "python",
   "pygments_lexer": "ipython3",
   "version": "3.12.4"
  }
 },
 "nbformat": 4,
 "nbformat_minor": 5
}
